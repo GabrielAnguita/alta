{
 "cells": [
  {
   "cell_type": "markdown",
   "metadata": {},
   "source": [
    "# Repeating Phrases"
   ]
  },
  {
   "cell_type": "markdown",
   "metadata": {},
   "source": [
    "This notebook describes some strategies for working with repeating phrases (also called <a href=\"Glossary.ipynb#Ngram\" title=\"A unit of variable size (n = number of units) from a given sequence of text in a corpus\" >n-grams </a>). It's part of the [The Art of Literary Text Analysis](ArtOfLiteraryTextAnalysis.ipynb) (and assumes that you've already worked through previous notebooks – see the table of contents). In this notebook we'll look in particular at:\n",
    "\n",
    "* [NLTK Collocations (repeating pairs of words)](#NLTK-Collocations)\n",
    "* [NLTK n-grams (more flexible and powerful n-grams)](#NLTK-NGrams)\n",
    "* [Simple distribution of phrases](#Distribution-of-Phrases)\n",
    "* [Longest repeating phrases](#Longest-Repeating-Phrases)\n",
    "* [Frequencies and distributions with segmented texts](#Segmenting-Texts)\n",
    "* [Phrase frequency correlations](#Correlations)\n",
    "\n",
    "So far we've been focused on considering the frequency and distribution of individual terms, but sometimes it can also be useful to study repeating phrases, or sequences of words. Repeating phrases are sometimes also called <a href=\"Glossary.ipynb#Ngram\" title=\"A unit of variable size (n = number of units) from a given sequence of text in a corpus\" >n-grams </a> where the \"n\" indicates a variable number of repeating words (or other linguistic unit like a character or ideogram). So we can have unigrams (one), bigrams (two), trigrams (three), and so on. The [Google Ngram Viewer](https://books.google.com/ngrams) provides a way of searching for variable length phrases in its very large corpus of digitized works. We'll consider here some of the ways of working with <a href=\"Glossary.ipynb#Ngram\" title=\"A unit of variable size (n = number of units) from a given sequence of text in a corpus\" >n-grams. </a>"
   ]
  },
  {
   "cell_type": "markdown",
   "metadata": {},
   "source": [
    "## NLTK Collocations"
   ]
  },
  {
   "cell_type": "markdown",
   "metadata": {},
   "source": [
    "Let's begin by loading Austen's _Emma_ text from NLTK's Gutenberg corpus (we'll work with a longer text than _Gold Bug_ in order to see more repeating phrases)."
   ]
  },
  {
   "cell_type": "code",
   "execution_count": 15,
   "metadata": {},
   "outputs": [
    {
     "name": "stdout",
     "output_type": "stream",
     "text": [
      "['Emma', 'by', 'Jane', 'Austen', 'VOLUME', 'I', 'CHAPTER', 'I', 'Emma', 'Woodhouse', 'handsome', 'clever', 'and', 'rich', 'with', 'a', 'comfortable', 'home', 'and', 'happy', 'disposition', 'seemed', 'to', 'unite', 'some']\n"
     ]
    }
   ],
   "source": [
    "import nltk\n",
    "emmaTokens = list(nltk.corpus.gutenberg.words(\"austen-emma.txt\")) # note the use of words() to load tokens\n",
    "emmaWords = [word for word in emmaTokens if word[0].isalpha()] # filter out non-words\n",
    "print(emmaWords[:25])"
   ]
  },
  {
   "cell_type": "markdown",
   "metadata": {},
   "source": [
    "There's actually a very easy and convenient way to look for the top bigrams in an NLTK text using the ```collocations()``` <a href=\"Glossary.ipynb#Function\" title=\"functions provide functionality to a program\" >function </a> and specifying the number of top frequency phrases to return."
   ]
  },
  {
   "cell_type": "code",
   "execution_count": 2,
   "metadata": {},
   "outputs": [
    {
     "name": "stdout",
     "output_type": "stream",
     "text": [
      "Mrs Weston; Frank Churchill; Miss Woodhouse; Mrs Elton; Miss Bates;\n",
      "Jane Fairfax; Miss Fairfax; every thing; young man; every body; great\n",
      "deal; Mrs Goddard; dare say; Maple Grove; John Knightley; Miss Taylor;\n",
      "Miss Smith; Robert Martin; Colonel Campbell; Box Hill\n"
     ]
    }
   ],
   "source": [
    "emmaText = nltk.Text(emmaWords)\n",
    "emmaText.collocations(20) # 20 top bigrams separated by semi-colon"
   ]
  },
  {
   "cell_type": "markdown",
   "metadata": {},
   "source": [
    "A lot of proper names!"
   ]
  },
  {
   "cell_type": "markdown",
   "metadata": {},
   "source": [
    "## NLTK N-Grams"
   ]
  },
  {
   "cell_type": "markdown",
   "metadata": {},
   "source": [
    "Though convenient, this method is limited to bigrams (2 words), forces the use of <a href=\"Glossary.ipynb#stopwords\" title=\"A list of words which are programmed to be ignored or filtered in analysis and search queries.\" >stop-words, </a> and doesn't provide frequency information. Fortunately, with only a bit more work using NLTK's ```ngrams()``` <a href=\"Glossary.ipynb#Function\" title=\"functions provide functionality to a program\" >function </a> on a list of words, we have much more control. Let's create a temporary <a href=\"Glossary.ipynb#Ngram\" title=\"A unit of variable size (n = number of units) from a given sequence of text in a corpus\" >n-grams </a> list to see what's happening."
   ]
  },
  {
   "cell_type": "code",
   "execution_count": 3,
   "metadata": {},
   "outputs": [
    {
     "name": "stdout",
     "output_type": "stream",
     "text": [
      "first six words:  Emma by Jane Austen VOLUME I\n"
     ]
    },
    {
     "data": {
      "text/plain": [
       "[('Emma', 'by'),\n",
       " ('by', 'Jane'),\n",
       " ('Jane', 'Austen'),\n",
       " ('Austen', 'VOLUME'),\n",
       " ('VOLUME', 'I')]"
      ]
     },
     "execution_count": 3,
     "metadata": {},
     "output_type": "execute_result"
    }
   ],
   "source": [
    "emmaFirstSixWords = \" \".join(emmaWords[:6]) # join first six words with spaces\n",
    "print(\"first six words: \", emmaFirstSixWords)\n",
    "emmaBigrams = list(nltk.ngrams(emmaWords, 2)) # create bigrams (n-grams of 2) from our emmaTokens\n",
    "emmaBigrams[:5] # convert to a list and show the first 5 entries"
   ]
  },
  {
   "cell_type": "markdown",
   "metadata": {},
   "source": [
    "As we can see, the ```nltk.ngrams()``` function goes through the text, and creates a new tupple of the specified length, with each item shifting forward by just one word – this is a moving window that slides along the entire text.\n",
    "\n",
    "Since the last word of the text can't be the start of a bigram, we should have one fewer bigrams than words (even if all words but the last word are repeated in two entries, as the first word and as the second word)."
   ]
  },
  {
   "cell_type": "code",
   "execution_count": 4,
   "metadata": {},
   "outputs": [
    {
     "name": "stdout",
     "output_type": "stream",
     "text": [
      "number of words: 161975\n",
      "number of ngrams: 161974\n"
     ]
    }
   ],
   "source": [
    "print(\"number of words:\", len(emmaWords))\n",
    "print(\"number of ngrams:\", len(emmaBigrams))"
   ]
  },
  {
   "cell_type": "markdown",
   "metadata": {},
   "source": [
    "Let's now look at <a href=\"Glossary.ipynb#Ngram\" title=\"A unit of variable size (n = number of units) from a given sequence of text in a corpus\" >n-grams </a> of 4 tokens where we calculate frequency of repeating n-grams and ask for the most common."
   ]
  },
  {
   "cell_type": "code",
   "execution_count": 5,
   "metadata": {},
   "outputs": [
    {
     "name": "stdout",
     "output_type": "stream",
     "text": [
      "50 I do not know\n",
      "25 a great deal of\n",
      "20 I am sure I\n",
      "18 I do not think\n",
      "18 Mr and Mrs Weston\n",
      "18 it would have been\n",
      "16 I have no doubt\n",
      "16 I am sure you\n",
      "14 at Mrs Goddard s\n",
      "13 and I am sure\n",
      "12 that she could not\n",
      "12 have no doubt of\n",
      "12 I am sure she\n",
      "11 quarter of an hour\n",
      "11 as soon as she\n"
     ]
    }
   ],
   "source": [
    "emma4grams = list(nltk.ngrams(emmaWords, 4)) # create four-grams\n",
    "emma4gramsFreqs = nltk.FreqDist(emma4grams) # determine frequency of four-grams\n",
    "for words, count in emma4gramsFreqs.most_common(15): # for the 15 most common four-grams\n",
    "    print(count, \" \".join(list(words))) # show the count and the create a string from the tuple"
   ]
  },
  {
   "cell_type": "markdown",
   "metadata": {},
   "source": [
    "It's interesting that the phrase \"I do not know\" repeats so frequently. In fact, several of the entries relate to certainty or doubt, which would be worth looking at more closely. However, we should also notice another artefact of this simple <a href=\"Glossary.ipynb#Ngram\" title=\"A unit of variable size (n = number of units) from a given sequence of text in a corpus\" >n-gram </a> technique: we get overlapping entries. Consider the following two sentences:\n",
    "\n",
    "* and I am sure I had no more idea…\n",
    "* and I am sure I never think of that poor young man…\n",
    "\n",
    "Our ```ngrams()``` function will actually find two n-grams of four:\n",
    "\n",
    "* (2) and I am sure\n",
    "* (2) I am sure I\n",
    "\n",
    "Since these are separate entries and each entry has two occurrences, it might look like a total of four n-grams, but it's not necessarily valid to count them separately. Similarly, even though we have several entries above that related to doubt and certainty, it may be that some of them are composed of the same phrases in the text.\n",
    "\n",
    "There are techniques to address this as a potential problem, but for now let's just be aware of the issue."
   ]
  },
  {
   "cell_type": "markdown",
   "metadata": {},
   "source": [
    "## Distribution of Phrases"
   ]
  },
  {
   "cell_type": "markdown",
   "metadata": {},
   "source": [
    "We can't ask for a <a href=\"Glossary.ipynb#Concordance\" title=\"A list of all words within a text and their frequency of occurrence.\" >concordance </a> or <a href=\"Glossary.ipynb#dispersionplot\" title=\"A graph which uses cartesian coordinates to display values for multiple variables of a set of data.\" >dispersion plot </a> from the emmaText of our phrases, since our emmaText is composed of words (and a phrase can't match the words)."
   ]
  },
  {
   "cell_type": "code",
   "execution_count": 6,
   "metadata": {},
   "outputs": [
    {
     "data": {
      "image/png": "[encoded data removed]",
      "text/plain": [
       "<matplotlib.figure.Figure at 0x10b024908>"
      ]
     },
     "metadata": {},
     "output_type": "display_data"
    }
   ],
   "source": [
    "%matplotlib inline\n",
    "emmaText.dispersion_plot([\"I do not know\"]) # won't work since phrases aren't in the emmaText tokens"
   ]
  },
  {
   "cell_type": "markdown",
   "metadata": {},
   "source": [
    "However, we can create a new text from our ngrams and then ask for a <a href=\"Glossary.ipynb#dispersionplot\" title=\"A graph which uses cartesian coordinates to display values for multiple variables of a set of data.\" >dispersion plot. </a> Don't forget that we need to search for the <a href=Glossary.ipynb#Tuple title=\"A sequence of immutable objects.\" >tuple </a> ```(\"I\",\"do\",\"not\",\"know\")``` since that's what's in each ngram (not the <a href=\"Glossary.ipynb#String\" title=\"A container for data of letters, numbers or symbols.\" >string </a> \"I do not know\"). \n"
   ]
  },
  {
   "cell_type": "code",
   "execution_count": 7,
   "metadata": {},
   "outputs": [
    {
     "data": {
      "image/png": "[encoded data removed]",
      "text/plain": [
       "<matplotlib.figure.Figure at 0x10eea38d0>"
      ]
     },
     "metadata": {},
     "output_type": "display_data"
    }
   ],
   "source": [
    "emma4gramsText = nltk.Text(emma4grams)\n",
    "emma4gramsText.dispersion_plot([(\"I\",\"do\",\"not\",\"know\")])"
   ]
  },
  {
   "cell_type": "markdown",
   "metadata": {},
   "source": [
    "We can perhaps perceive a greater preponderance of occurences closer to the middle of the text, but nothing especially noteworthy. \n",
    "\n",
    "Rather than working with <a href=Glossary.ipynb#Tuple title=\"A sequence of immutable objects.\" >tuples, </a> it may be easier to convert our n-gram tuple to a <a href=\"Glossary.ipynb#String\" title=\"A container for data of letters, numbers or symbols.\" >string. </a>"
   ]
  },
  {
   "cell_type": "code",
   "execution_count": 1,
   "metadata": {},
   "outputs": [
    {
     "ename": "NameError",
     "evalue": "name 'emma4grams' is not defined",
     "output_type": "error",
     "traceback": [
      "\u001b[0;31m---------------------------------------------------------------------------\u001b[0m",
      "\u001b[0;31mNameError\u001b[0m                                 Traceback (most recent call last)",
      "\u001b[0;32m<ipython-input-1-5fa469ba422d>\u001b[0m in \u001b[0;36m<module>\u001b[0;34m()\u001b[0m\n\u001b[0;32m----> 1\u001b[0;31m \u001b[0memma4gramsTokens\u001b[0m \u001b[0;34m=\u001b[0m \u001b[0;34m[\u001b[0m\u001b[0;34m\" \"\u001b[0m\u001b[0;34m.\u001b[0m\u001b[0mjoin\u001b[0m\u001b[0;34m(\u001b[0m\u001b[0mgram\u001b[0m\u001b[0;34m)\u001b[0m \u001b[0;32mfor\u001b[0m \u001b[0mgram\u001b[0m \u001b[0;32min\u001b[0m \u001b[0memma4grams\u001b[0m\u001b[0;34m]\u001b[0m\u001b[0;34m\u001b[0m\u001b[0m\n\u001b[0m\u001b[1;32m      2\u001b[0m \u001b[0mnltk\u001b[0m\u001b[0;34m.\u001b[0m\u001b[0mText\u001b[0m\u001b[0;34m(\u001b[0m\u001b[0memma4gramsTokens\u001b[0m\u001b[0;34m)\u001b[0m\u001b[0;34m.\u001b[0m\u001b[0mdispersion_plot\u001b[0m\u001b[0;34m(\u001b[0m\u001b[0;34m[\u001b[0m\u001b[0;34m(\u001b[0m\u001b[0;34m\"I do not know\"\u001b[0m\u001b[0;34m)\u001b[0m\u001b[0;34m]\u001b[0m\u001b[0;34m)\u001b[0m\u001b[0;34m\u001b[0m\u001b[0m\n",
      "\u001b[0;31mNameError\u001b[0m: name 'emma4grams' is not defined"
     ]
    }
   ],
   "source": [
    "emma4gramsTokens = [\" \".join(gram) for gram in emma4grams]\n",
    "nltk.Text(emma4gramsTokens).dispersion_plot([(\"I do not know\")])"
   ]
  },
  {
   "cell_type": "markdown",
   "metadata": {},
   "source": [
    "## Longest Repeating Phrases"
   ]
  },
  {
   "cell_type": "markdown",
   "metadata": {},
   "source": [
    "We might also want to determine the longest repeating <a href=\"Glossary.ipynb#Ngram\" title=\"A unit of variable size (n = number of units) from a given sequence of text in a corpus\" >n-grams. </a> Using a range we can look for n-grams and break out of the loop if there are no more."
   ]
  },
  {
   "cell_type": "code",
   "execution_count": 9,
   "metadata": {},
   "outputs": [
    {
     "name": "stdout",
     "output_type": "stream",
     "text": [
      "ngram of  29  words occurring  2  times: what reverse we have Man s boasted power and freedom all are flown Lord of the earth and sea he bends a slave And woman lovely woman reigns alone\n"
     ]
    }
   ],
   "source": [
    "ngramsFreqs = [] # keep track of last set of repeating phrases\n",
    "for length in range(2, len(emmaWords)): # create a range from 2 to the length of the text (even if we don't get that high)\n",
    "    ngrams = list(nltk.ngrams(emmaWords, length)) # get n-grams for specified length\n",
    "    freqs = nltk.FreqDist(ngrams) # get frequencies for these n-grams\n",
    "    freqs = [(ngram, count) for ngram, count in freqs.items() if count > 1] # filter out frequencies that don't repeat\n",
    "    if len(freqs) > 0: # we have at least one repeating phrase\n",
    "        ngramsFreqs = freqs # new set of frequencies\n",
    "    else: # if we've filtered out all frequencies then break out of the loop\n",
    "        break\n",
    "\n",
    "for ngram, count in ngramsFreqs:\n",
    "    print(\"ngram of \", len(ngram), \" words occurring \", count, \" times:\", \" \".join(list(ngram)))"
   ]
  },
  {
   "cell_type": "markdown",
   "metadata": {},
   "source": [
    "A repeating phrase of 29 words! We can look at _Emma_ closer to see that these are excerpts of a letter read in different contexts."
   ]
  },
  {
   "cell_type": "markdown",
   "metadata": {},
   "source": [
    "## Segmenting Texts"
   ]
  },
  {
   "cell_type": "markdown",
   "metadata": {},
   "source": [
    "We've relied heavily on ```dispersion_plot()``` as a way of looking at term distribution, but there are other approaches, ones that may be better or worse depending on the context. One possibility is to segment our text into equal parts and then to plot distribution for each part.\n",
    "\n",
    "We can segment our tokens or <a href=\"Glossary.ipynb#Ngram\" title=\"A unit of variable size (n = number of units) from a given sequence of text in a corpus\" >n-grams </a> in various ways, but one convenient way is to use a library called [NumPy](http://www.numpy.org) that is helpful for working with <a href=\"Glossary.ipynb#array\" title=\"A data structure consisting of an ordered collection of items of a single type\" > arrays </a>  (and graphing array-backed data). Let's see it in action with a simplified example where we're going to create a list of numbers from 0 to 9 (10 elements) and then create 5 equal bins in which to place the items."
   ]
  },
  {
   "cell_type": "code",
   "execution_count": 10,
   "metadata": {},
   "outputs": [
    {
     "data": {
      "text/plain": [
       "[0, 1, 2, 3, 4, 5, 6, 7, 8]"
      ]
     },
     "execution_count": 10,
     "metadata": {},
     "output_type": "execute_result"
    }
   ],
   "source": [
    "numbers = list(range(0,9)) # create a range from 0 to 9 and convert the range to a list\n",
    "numbers"
   ]
  },
  {
   "cell_type": "code",
   "execution_count": 11,
   "metadata": {},
   "outputs": [
    {
     "name": "stdout",
     "output_type": "stream",
     "text": [
      "number of bins: 5\n"
     ]
    },
    {
     "data": {
      "text/plain": [
       "[array([0, 1]), array([2, 3]), array([4, 5]), array([6, 7]), array([8])]"
      ]
     },
     "execution_count": 11,
     "metadata": {},
     "output_type": "execute_result"
    }
   ],
   "source": [
    "import numpy as np\n",
    "numberBins = np.array_split(numbers, 5) # divide our numbers into 5 equal bins\n",
    "print(\"number of bins:\", len(numberBins))\n",
    "numberBins"
   ]
  },
  {
   "cell_type": "markdown",
   "metadata": {},
   "source": [
    "So the first bin has 0 and 1, the second has 2 and 3, etc.\n",
    "\n",
    "We can do something similar with our emma4gramsTokens, dividing the list into 10 each parts."
   ]
  },
  {
   "cell_type": "code",
   "execution_count": 12,
   "metadata": {},
   "outputs": [
    {
     "data": {
      "text/plain": [
       "[16198, 16198, 16197, 16197, 16197, 16197, 16197, 16197, 16197, 16197]"
      ]
     },
     "execution_count": 12,
     "metadata": {},
     "output_type": "execute_result"
    }
   ],
   "source": [
    "emma4gramsSegments = np.array_split(emma4gramsTokens, 10)\n",
    "[len(segment) for segment in emma4gramsSegments] # how many ngrams in each bin?"
   ]
  },
  {
   "cell_type": "markdown",
   "metadata": {},
   "source": [
    "Now, instead of counting the number of tokens, we'll count the number of occurrences of our search term \"I do not know\"."
   ]
  },
  {
   "cell_type": "code",
   "execution_count": 13,
   "metadata": {},
   "outputs": [
    {
     "data": {
      "text/plain": [
       "[6, 6, 2, 5, 7, 7, 6, 4, 3, 4]"
      ]
     },
     "execution_count": 13,
     "metadata": {},
     "output_type": "execute_result"
    }
   ],
   "source": [
    "iDoNotKnowCounts = [list(segment).count((\"I do not know\")) for segment in emma4gramsSegments]\n",
    "iDoNotKnowCounts # counts per segment"
   ]
  },
  {
   "cell_type": "markdown",
   "metadata": {},
   "source": [
    "And now a simple plot of these counts (we're adding a legend to make it easier to understand)."
   ]
  },
  {
   "cell_type": "code",
   "execution_count": 31,
   "metadata": {},
   "outputs": [
    {
     "data": {
      "image/png": "[encoded data removed]",
      "text/plain": [
       "<matplotlib.figure.Figure at 0x10eea96a0>"
      ]
     },
     "metadata": {},
     "output_type": "display_data"
    },
    {
     "data": {
      "image/png": "[encoded data removed]",
      "text/plain": [
       "<matplotlib.figure.Figure at 0x10f183940>"
      ]
     },
     "metadata": {},
     "output_type": "display_data"
    }
   ],
   "source": [
    "import matplotlib.pyplot as plt\n",
    "line = plt.plot(iDoNotKnowCounts, label=\"I do not know\")\n",
    "plt.ylim(0) # make sure to set y axis to start at zero\n",
    "plt.legend(handles=line) # we're going to add a legend\n",
    "plt.show() # make sure to flush out the line chart\n",
    "emma4gramsText.dispersion_plot([(\"I\",\"do\",\"not\",\"know\")]) # for comparison sake"
   ]
  },
  {
   "cell_type": "markdown",
   "metadata": {},
   "source": [
    "These provide quite different pictures of the data even though in both cases we should be seeing 50 occurrences of \"I do not know\". The first graph seems to show wildly fluctuating numbers, but it's worth recognizing that in this simple form our y axis (vertical) only varies by five and that the numbers are relatively small. Indeed, it may not be all that helpful to use a line graph here since it suggests continuity between the segments when there isn't any. For discrete measurements, a bar graph is often preferable, and is only slightly more complicated to produce, as we also provide explicit values for the x axis."
   ]
  },
  {
   "cell_type": "code",
   "execution_count": 20,
   "metadata": {},
   "outputs": [
    {
     "data": {
      "image/png": "[encoded data removed]",
      "text/plain": [
       "<matplotlib.figure.Figure at 0x11514cac8>"
      ]
     },
     "metadata": {},
     "output_type": "display_data"
    }
   ],
   "source": [
    "import matplotlib.pyplot as plt\n",
    "xaxis = range(0, len(iDoNotKnowCounts)) # a range from zero to the length of our counts (0-9)\n",
    "bar = plt.bar(xaxis, iDoNotKnowCounts, label=\"I do not know\")\n",
    "plt.legend(handles=[bar])\n",
    "plt.show()"
   ]
  },
  {
   "cell_type": "markdown",
   "metadata": {},
   "source": [
    "The x-axis (bottom horizontal bar) isn't quite ideal, but for now we can leave it as is.\n",
    "\n",
    "Line graphs can be a bit easier to read for multiple values though. Let's construct a graph that compares \"I do not know\" and \"I have no doubt\"."
   ]
  },
  {
   "cell_type": "code",
   "execution_count": 21,
   "metadata": {},
   "outputs": [
    {
     "data": {
      "image/png": "[encoded data removed]",
      "text/plain": [
       "<matplotlib.figure.Figure at 0x110b55f28>"
      ]
     },
     "metadata": {},
     "output_type": "display_data"
    }
   ],
   "source": [
    "searches = [\"I do not know\", \"I have no doubt\"]\n",
    "lines = []\n",
    "for search in searches:\n",
    "    line, = plt.plot([list(segment).count(search) for segment in emma4gramsSegments], label=search)\n",
    "    lines.append(line)\n",
    "plt.legend(handles=lines)\n",
    "plt.show()"
   ]
  },
  {
   "cell_type": "markdown",
   "metadata": {},
   "source": [
    "It's worth reiterating that the numbers here are very small, so we should probably resist the temptation to jump too much to conclusions."
   ]
  },
  {
   "cell_type": "markdown",
   "metadata": {},
   "source": [
    "## Correlations"
   ]
  },
  {
   "cell_type": "markdown",
   "metadata": {},
   "source": [
    "A question we might have about the graph above is to what extent values in the two lines correlate. In other words, if one line rises, does the other have a tendency to rise, or is it the opposite, or is there no real correlation (synchronized variation) between the two.\n",
    "\n",
    "Once again we can use NumPy to help us measure correlation using [corrcoef()](http://docs.scipy.org/doc/numpy/reference/generated/numpy.corrcoef.html). Let's first see it in action with a couple of simple example datasets."
   ]
  },
  {
   "cell_type": "code",
   "execution_count": 22,
   "metadata": {},
   "outputs": [
    {
     "data": {
      "image/png": "[encoded data removed]",
      "text/plain": [
       "<matplotlib.figure.Figure at 0x112b98518>"
      ]
     },
     "metadata": {},
     "output_type": "display_data"
    },
    {
     "data": {
      "text/plain": [
       "0.98198050606196585"
      ]
     },
     "execution_count": 22,
     "metadata": {},
     "output_type": "execute_result"
    }
   ],
   "source": [
    "list1 = [1,2,3]\n",
    "list2 = [1,5,7]\n",
    "plt.plot(range(3), list1, range(3), list2)\n",
    "plt.show()\n",
    "np.corrcoef(list1, list2)[0,1] # this returns a matrix (box) of values, but we're only interested in the top right value"
   ]
  },
  {
   "cell_type": "markdown",
   "metadata": {},
   "source": [
    "This is a [correlation value](http://en.wikipedia.org/wiki/Pearson_product-moment_correlation_coefficient) that expresses the degree to which the values from the two lists change in harmony. For our purposes the underlying mathematics of it are somewhat less important than the general concept of correlation (synchrnized variation) and what the value essentially conveys.\n",
    "\n",
    "Correlation values vary between -1 and 1. The correlation value in this case (0.98198050606196585) is approaching 1 which indicates a high correlation between the two lists (as the values in one list rise so do the ones in the other). Let's flip the order of the second list to see what happens."
   ]
  },
  {
   "cell_type": "code",
   "execution_count": 23,
   "metadata": {},
   "outputs": [
    {
     "data": {
      "image/png": "[encoded data removed]",
      "text/plain": [
       "<matplotlib.figure.Figure at 0x1154d1550>"
      ]
     },
     "metadata": {},
     "output_type": "display_data"
    },
    {
     "data": {
      "text/plain": [
       "-0.98198050606196585"
      ]
     },
     "execution_count": 23,
     "metadata": {},
     "output_type": "execute_result"
    }
   ],
   "source": [
    "list2.reverse()\n",
    "plt.plot(range(3), list1, range(3), list2)\n",
    "plt.show()\n",
    "np.corrcoef(list1, list2)[0,1]"
   ]
  },
  {
   "cell_type": "markdown",
   "metadata": {},
   "source": [
    "Notice that we still have a strong correlation, but it's inverted (close to -1).\n",
    "\n",
    "If items from our lists vary with little correlation, the correlation value will approach zero. Now let's try getting a correlation value for our two search terms."
   ]
  },
  {
   "cell_type": "code",
   "execution_count": 24,
   "metadata": {},
   "outputs": [
    {
     "name": "stdout",
     "output_type": "stream",
     "text": [
      "[6, 6, 2, 5, 7, 7, 6, 4, 3, 4]\n",
      "[3, 1, 2, 0, 1, 1, 2, 1, 2, 3]\n"
     ]
    }
   ],
   "source": [
    "iDoNotKnowCounts = [list(segment).count(\"I do not know\") for segment in emma4gramsSegments]\n",
    "iHaveNoDoubtCounts = [list(segment).count(\"I have no doubt\") for segment in emma4gramsSegments]\n",
    "print(iDoNotKnowCounts)\n",
    "print(iHaveNoDoubtCounts)"
   ]
  },
  {
   "cell_type": "code",
   "execution_count": 25,
   "metadata": {},
   "outputs": [
    {
     "data": {
      "text/plain": [
       "-0.27066598098038336"
      ]
     },
     "execution_count": 25,
     "metadata": {},
     "output_type": "execute_result"
    }
   ],
   "source": [
    "np.corrcoef(iDoNotKnowCounts, iHaveNoDoubtCounts)[0,1]"
   ]
  },
  {
   "cell_type": "markdown",
   "metadata": {},
   "source": [
    "So a weak inverse correlation (as the frequency of one rises or drops the other has a slight tendency to go in the opposite direction). Let's see if we can find one of our top frequency four-grams with a stronger correlation."
   ]
  },
  {
   "cell_type": "code",
   "execution_count": 26,
   "metadata": {},
   "outputs": [
    {
     "name": "stdout",
     "output_type": "stream",
     "text": [
      "['I do not know', 'a great deal of', 'I am sure I', 'I do not think', 'Mr and Mrs Weston', 'it would have been', 'I have no doubt', 'I am sure you', 'at Mrs Goddard s', 'and I am sure', 'that she could not', 'have no doubt of', 'I am sure she', 'quarter of an hour', 'as soon as she']\n"
     ]
    }
   ],
   "source": [
    "emma4gramsMostFrequent = [\" \".join(words) for words, count in emma4gramsFreqs.most_common(15)] # get a list of top \n",
    "print(emma4gramsMostFrequent)"
   ]
  },
  {
   "cell_type": "code",
   "execution_count": 27,
   "metadata": {},
   "outputs": [
    {
     "name": "stdout",
     "output_type": "stream",
     "text": [
      "[('I do not know', 1.0), ('I do not think', 0.71679269233981702), ('I am sure you', 0.20299948573528753), ('I am sure she', 0.1211096026497343), ('and I am sure', 0.11275884962655315), ('it would have been', 0.082874193016474501), ('quarter of an hour', 0.054603247242463411), ('I am sure I', 0.041812100500354533), ('as soon as she', 5.8387319739822136e-17), ('Mr and Mrs Weston', -0.037330068339472076), ('I have no doubt', -0.27066598098038336), ('at Mrs Goddard s', -0.32003866823226162), ('have no doubt of', -0.35569399576529515), ('that she could not', -0.3797772626563749), ('a great deal of', -0.41344911529736156)]\n"
     ]
    },
    {
     "data": {
      "image/png": "[encoded data removed]",
      "text/plain": [
       "<matplotlib.figure.Figure at 0x1146c2b70>"
      ]
     },
     "metadata": {},
     "output_type": "display_data"
    }
   ],
   "source": [
    "emma4gramsSegmentsCounts = {} # build a dictionary of counts for each search item\n",
    "for search in emma4gramsMostFrequent:\n",
    "    emma4gramsSegmentsCounts[search] = [list(segment).count(search) for segment in emma4gramsSegments]\n",
    "\n",
    "iDoNotKnowCorrelations = {} # build a dictionary of correlation values for \"I do not know\"\n",
    "for ngram, counts in emma4gramsSegmentsCounts.items():\n",
    "    iDoNotKnowCorrelations[ngram] = np.corrcoef(emma4gramsSegmentsCounts[\"I do not know\"], counts)[0,1]\n",
    "\n",
    "iDoNotKnowCorrelationFreqs = nltk.FreqDist(iDoNotKnowCorrelations)\n",
    "print(iDoNotKnowCorrelationFreqs.most_common())\n",
    "iDoNotKnowCorrelationFreqs.plot()"
   ]
  },
  {
   "cell_type": "markdown",
   "metadata": {},
   "source": [
    "\"I do not know\" correlates perfectly with \"I do not know\" (phew). But this also suggests that \"I do not know\" is positively correlated with \"I do not think\", followed by a bunch of weak correlations, and then some slightly stronger negative correlations for things like \"a great deal of\"."
   ]
  },
  {
   "cell_type": "markdown",
   "metadata": {},
   "source": [
    "## Next Steps"
   ]
  },
  {
   "cell_type": "markdown",
   "metadata": {},
   "source": [
    "* Create an _emmaStoppedWords_ list that filters out stoplist words in _emmaWords_ (see [Getting NLTK](GettingNltk.ipynb#Word-Frequencies) if needed)\n",
    "* Compare the top 20 frequency <a href=\"Glossary.ipynb#Ngram\" title=\"A unit of variable size (n = number of units) from a given sequence of text in a corpus\" >n-grams </a> from emmaWords and emmaStoppedWords – which seems more useful?\n",
    "* Using emmaStoppedWords determine the correlations between the top <a href=\"Glossary.ipynb#Ngram\" title=\"A unit of variable size (n = number of units) from a given sequence of text in a corpus\" >n-gram </a> and the top 20 n-grams (for 10 text segments)\n",
    "* Do the same, but with 100 text segments – does the ranking change?\n",
    "\n",
    "Next we're going to have some distant encounters with [Sentiment Analysis](SentimentAnalysis.ipynb)."
   ]
  },
  {
   "cell_type": "markdown",
   "metadata": {},
   "source": [
    "---\n",
    "[CC BY-SA](https://creativecommons.org/licenses/by-sa/4.0/) From [The Art of Literary Text Analysis](ArtOfLiteraryTextAnalysis.ipynb) by [Stéfan Sinclair](http://stefansinclair.name) &amp; [Geoffrey Rockwell](http://geoffreyrockwell.com). Edited and revised by [Melissa Mony](http://melissamony.com). <br >Created February 24, 2015 and last modified December 9, 2015 (Jupyter 4)"
   ]
  },
  {
   "cell_type": "code",
   "execution_count": null,
   "metadata": {
    "collapsed": true
   },
   "outputs": [],
   "source": []
  }
 ],
 "metadata": {
  "kernelspec": {
   "display_name": "Python 3",
   "language": "python",
   "name": "python3"
  },
  "language_info": {
   "codemirror_mode": {
    "name": "ipython",
    "version": 3
   },
   "file_extension": ".py",
   "mimetype": "text/x-python",
   "name": "python",
   "nbconvert_exporter": "python",
   "pygments_lexer": "ipython3",
   "version": "3.6.3"
  }
 },
 "nbformat": 4,
 "nbformat_minor": 1
}
