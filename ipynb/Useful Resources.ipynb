{
 "cells": [
  {
   "cell_type": "markdown",
   "metadata": {},
   "source": [
    "# Useful Resources\n"
   ]
  },
  {
   "cell_type": "markdown",
   "metadata": {},
   "source": [
    "### Programming Basics \n",
    "* [Codecademy](https://www.codecademy.com/learn/learn-python) - Online learning platform which offers free interactive lessons covering the very basics of programming languages.\n",
    "* [Google's Python Class](https://developers.google.com/edu/python/) - A combination of written materials, instructional videos and coding exersises to practice Python programming. \n",
    "* [Pyschools](http://www.pyschools.com/) - Practical python tutorials for beginners and beyond. Note - you must have a google account to sign-up.\n",
    "* [Udacity](https://www.udacity.com/course/programming-foundations-with-python--ud036) - Introduction python programming class with mini-projects in each lesson.\n",
    "* [Tutorialspoint](https://www.tutorialspoint.com/python/python_basic_syntax.htm) - Basics of python syntax.\n",
    "---"
   ]
  },
  {
   "cell_type": "markdown",
   "metadata": {},
   "source": [
    "### Software & Libraries\n",
    "* [Anaconda](https://www.anaconda.com/download/#macos) - Suite of data science applications \n",
    "* [Gensim](https://radimrehurek.com/gensim/) - Topic Modelling toolkit for Python\n",
    "* [NLTK](http://www.nltk.org/) - Natural Language Toolkit\n",
    "\n",
    "\n"
   ]
  },
  {
   "cell_type": "markdown",
   "metadata": {},
   "source": [
    "### Python Resources\n",
    "* [The Python Wiki](https://wiki.python.org/moin/FrontPage) - A comprehensive encyclopedia of python related information including a beginners guide, common problems and links to many useful resources.\n",
    "* [Stack Overflow](https://stackoverflow.com/) - An excellent community driven question-answer problem solving resource for even the trickiest of python conundrums.\n",
    "\n",
    "---"
   ]
  },
  {
   "cell_type": "markdown",
   "metadata": {},
   "source": [
    "### Further Explorations\n",
    "* [Voyant](https://voyant-tools.org/) - Open source web application for text analysis featuring a plethora of data and visualization tools.\n",
    "* [Big Data by Neal Caren](http://nealcaren.web.unc.edu/big-data/) - Tutorials which cover the fundamentals of quantitative text analysis for social scientists.\n",
    "---"
   ]
  },
  {
   "cell_type": "markdown",
   "metadata": {},
   "source": [
    "### Open Source Materials\n",
    "\n",
    "* [Project Gutenberg](http://gutenberg.ca/index.html) - Digital editions of classic literature in the public domain"
   ]
  }
 ],
 "metadata": {
  "kernelspec": {
   "display_name": "Python 3",
   "language": "python",
   "name": "python3"
  },
  "language_info": {
   "codemirror_mode": {
    "name": "ipython",
    "version": 3
   },
   "file_extension": ".py",
   "mimetype": "text/x-python",
   "name": "python",
   "nbconvert_exporter": "python",
   "pygments_lexer": "ipython3",
   "version": "3.6.3"
  }
 },
 "nbformat": 4,
 "nbformat_minor": 2
}
