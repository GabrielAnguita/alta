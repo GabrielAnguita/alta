{
 "cells": [
  {
   "cell_type": "markdown",
   "metadata": {},
   "source": [
    "# Getting Collocates for Words\n",
    "\n",
    "This shows how you can get collocates for a word. \n",
    "\n",
    "**Note:** It assumes you have the text in the same directory."
   ]
  },
  {
   "cell_type": "markdown",
   "metadata": {},
   "source": [
    "### Checking files and getting a text\n",
    "\n",
    "First we check what texts we have in the directory."
   ]
  },
  {
   "cell_type": "code",
   "execution_count": 4,
   "metadata": {},
   "outputs": [
    {
     "name": "stdout",
     "output_type": "stream",
     "text": [
      "Hume Enquiry.txt   negative.txt       positive.txt\r\n",
      "Hume Treatise.txt  obama_tweets.txt\r\n"
     ]
    }
   ],
   "source": [
    "%ls *.txt"
   ]
  },
  {
   "cell_type": "markdown",
   "metadata": {},
   "source": [
    "Now we open the text. \n",
    "\n",
    "Copy in the title of the text you want to process and run the next cell. Our example uses the plain text version of Hume's [A Treatise of Human Nature by David Hume](http://www.gutenberg.org/ebooks/4705) that we downloaded."
   ]
  },
  {
   "cell_type": "code",
   "execution_count": 5,
   "metadata": {},
   "outputs": [
    {
     "name": "stdout",
     "output_type": "stream",
     "text": [
      "This string has 1,344,061 characters\n"
     ]
    }
   ],
   "source": [
    "targetText = \"Hume Treatise.txt\"\n",
    "\n",
    "with open(targetText, \"r\") as f:\n",
    "    theText = f.read()\n",
    "\n",
    "print(\"This string has\", \"{:,}\".format(len(theText)), \"characters\")"
   ]
  },
  {
   "cell_type": "markdown",
   "metadata": {},
   "source": [
    "### Tokenizing\n",
    "\n",
    "Note that we are tokenizing the full Gutenberg text file which includes metadata and license information. If you want only the tokens of the book you should delete the Gutenberg information from the text file."
   ]
  },
  {
   "cell_type": "code",
   "execution_count": 17,
   "metadata": {},
   "outputs": [
    {
     "name": "stdout",
     "output_type": "stream",
     "text": [
      "['one', 'two', 'three', 'four', 'five', 'six', 'seven', 'eight', 'nine', 'ten']\n"
     ]
    }
   ],
   "source": [
    "import re\n",
    "theTokens = re.findall(r'\\b\\w[\\w-]*\\b', theText.lower())\n",
    "print(theTokens[:10])"
   ]
  },
  {
   "cell_type": "markdown",
   "metadata": {},
   "source": [
    "### Finding the collocates\n",
    "\n",
    "This will ask you what words you want collocates for create a list of collocates. Note that you can have more than one target word. The list of words you want should be separated by spaces."
   ]
  },
  {
   "cell_type": "code",
   "execution_count": 20,
   "metadata": {},
   "outputs": [
    {
     "name": "stdout",
     "output_type": "stream",
     "text": [
      "What word do you want collocates for?one two\n",
      "['one', 'two']\n"
     ]
    }
   ],
   "source": [
    "wrds2find = input(\"What word do you want collocates for?\").split(\" \") # Ask for the words to search for\n",
    "print(wrds2find)"
   ]
  },
  {
   "cell_type": "markdown",
   "metadata": {},
   "source": [
    "This is the main loop that goes through the text and pulls collocates. Note that you can set the context of collocates before and after the target word separately."
   ]
  },
  {
   "cell_type": "code",
   "execution_count": 21,
   "metadata": {},
   "outputs": [
    {
     "name": "stdout",
     "output_type": "stream",
     "text": [
      "['one']\n"
     ]
    }
   ],
   "source": [
    "contextBefore = 1 # This sets the context of words before the target word\n",
    "contextAfter = 0 # This sets the context of words after the target word\n",
    "\n",
    "end = len(theTokens)\n",
    "counter = 0\n",
    "theCollocates = []\n",
    "for word in theTokens:\n",
    "    if word in wrds2find: # This checks to see if the word is what we want\n",
    "        for i in range(contextBefore):\n",
    "            if (counter - (i + 1)) >= 0: # This checks that we aren't at the beginning\n",
    "                theCollocates.append(theTokens[(counter - (i + 1))]) # This adds words before\n",
    "        for i in range(contextAfter):\n",
    "            if (counter + (i + 1)) < end: # This checks that we aren't at the end\n",
    "                theCollocates.append(theTokens[(counter + (i + 1))]) # This adds words after\n",
    "    counter = counter + 1\n",
    "    \n",
    "print(theCollocates[:30])"
   ]
  },
  {
   "cell_type": "markdown",
   "metadata": {},
   "source": [
    "## Doing things with the collocates\n",
    "\n",
    "Now we can do various things with the list of collocates."
   ]
  },
  {
   "cell_type": "markdown",
   "metadata": {},
   "source": [
    "#### Count collocates"
   ]
  },
  {
   "cell_type": "code",
   "execution_count": 9,
   "metadata": {},
   "outputs": [
    {
     "name": "stdout",
     "output_type": "stream",
     "text": [
      "71\n"
     ]
    }
   ],
   "source": [
    "print(len(theCollocates))"
   ]
  },
  {
   "cell_type": "markdown",
   "metadata": {},
   "source": [
    "#### Count unique words among collocates"
   ]
  },
  {
   "cell_type": "code",
   "execution_count": 10,
   "metadata": {},
   "outputs": [
    {
     "name": "stdout",
     "output_type": "stream",
     "text": [
      "{'same', 'no', 'passions', 'its', 'of', 'why', 'with', 'which', 'certain', 'at', 'undoubted', 'beside', 'concerning', 'the', 'if', 'render', 'like', 'as', 'following', 'confusion', 'betwixt', 'to', 'evident', 'that', 'this', 'falshood', 'any'}\n"
     ]
    }
   ],
   "source": [
    "print(set(theCollocates))"
   ]
  },
  {
   "cell_type": "markdown",
   "metadata": {},
   "source": [
    "#### Tabulate top collocates"
   ]
  },
  {
   "cell_type": "code",
   "execution_count": 13,
   "metadata": {},
   "outputs": [
    {
     "name": "stdout",
     "output_type": "stream",
     "text": [
      "      the        of        to      same      that      this       its       any following confusion \n",
      "       20        14         5         3         3         3         2         2         1         1 \n"
     ]
    }
   ],
   "source": [
    "import nltk\n",
    "tokenDist = nltk.FreqDist(theCollocates)\n",
    "tokenDist.tabulate(10)"
   ]
  },
  {
   "cell_type": "markdown",
   "metadata": {},
   "source": [
    "#### Plot top collocates"
   ]
  },
  {
   "cell_type": "code",
   "execution_count": 14,
   "metadata": {},
   "outputs": [
    {
     "data": {
      "image/png": "[encoded data removed]",
      "text/plain": [
       "<matplotlib.figure.Figure at 0x10dbe9630>"
      ]
     },
     "metadata": {},
     "output_type": "display_data"
    }
   ],
   "source": [
    "import matplotlib\n",
    "%matplotlib inline\n",
    "tokenDist.plot(25, title=\"Top Frequency Collocates for \" + wrd2find.capitalize())"
   ]
  },
  {
   "cell_type": "markdown",
   "metadata": {},
   "source": [
    "#### Explort all collocates and counts as a CSV\n",
    "\n",
    "This will create CSV file with the name of the target word with the counts."
   ]
  },
  {
   "cell_type": "code",
   "execution_count": 63,
   "metadata": {},
   "outputs": [
    {
     "name": "stdout",
     "output_type": "stream",
     "text": [
      "Done\n"
     ]
    }
   ],
   "source": [
    "import csv\n",
    "nameOfResults = wrd2find.capitalize() + \".Collocates.csv\"\n",
    "table = tokenDist.most_common()\n",
    "\n",
    "with open(nameOfResults, \"w\") as f:\n",
    "    writer = csv.writer(f)\n",
    "    writer.writerows(table)\n",
    "    \n",
    "print(\"Done\")"
   ]
  },
  {
   "cell_type": "markdown",
   "metadata": {
    "collapsed": true
   },
   "source": [
    "---\n",
    "[CC BY-SA](https://creativecommons.org/licenses/by-sa/4.0/) From [The Art of Literary Text Analysis](ArtOfLiteraryTextAnalysis.ipynb) by [Stéfan Sinclair](http://stefansinclair.name) &amp; [Geoffrey Rockwell](http://geoffreyrockwell.com)<br >Created January 7, 2015 and last modified August 8, 2016 (Jupyter 4.2.1)"
   ]
  },
  {
   "cell_type": "code",
   "execution_count": null,
   "metadata": {
    "collapsed": true
   },
   "outputs": [],
   "source": []
  }
 ],
 "metadata": {
  "kernelspec": {
   "display_name": "Python 3",
   "language": "python",
   "name": "python3"
  },
  "language_info": {
   "codemirror_mode": {
    "name": "ipython",
    "version": 3
   },
   "file_extension": ".py",
   "mimetype": "text/x-python",
   "name": "python",
   "nbconvert_exporter": "python",
   "pygments_lexer": "ipython3",
   "version": "3.6.3"
  }
 },
 "nbformat": 4,
 "nbformat_minor": 1
}
