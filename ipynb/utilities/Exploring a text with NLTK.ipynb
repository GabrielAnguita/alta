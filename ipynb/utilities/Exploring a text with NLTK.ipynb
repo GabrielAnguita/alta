{
 "cells": [
  {
   "cell_type": "markdown",
   "metadata": {},
   "source": [
    "# Exploring a Text with NLTK\n",
    "\n",
    "This notebook shows how you can explore aspects of a text using the Natural Langauge Took Kit (NLTK).\n",
    "\n",
    "Some of the things you can do include:\n",
    "\n",
    "* [Tokenize a text](#Tokenization)\n",
    "* [Generate a concordance for a word](#Concording)\n",
    "* [Explore collocations (words that are located together)](#Collocations)\n",
    "* [Counting words and frequencies](#Counting-Words-and-Frequencies)\n",
    "* [Finding smiliar words and contexts](#Similar-Words)\n",
    "\n",
    "For more on NLTK see the online version of the book [Natural Language Processing with Python](http://www.nltk.org/book/). "
   ]
  },
  {
   "cell_type": "markdown",
   "metadata": {},
   "source": [
    "## Preparing for Exploration\n",
    "\n",
    "Before we can analyze a text we need to load it in and tokenize it."
   ]
  },
  {
   "cell_type": "markdown",
   "metadata": {},
   "source": [
    "### Installing NTLK\n",
    "\n",
    "Before you can use NTLK you need to make sure it is installed. The [Anaconda Navigator](https://docs.continuum.io/anaconda/navigator) by default installs NLTK, but you can always test if it is installed by importing it with ```import nltk```. Try it. It will give you an error if you don't have it."
   ]
  },
  {
   "cell_type": "code",
   "execution_count": 1,
   "metadata": {
    "collapsed": true
   },
   "outputs": [],
   "source": [
    "import nltk"
   ]
  },
  {
   "cell_type": "markdown",
   "metadata": {},
   "source": [
    "### (more on) Installing NLTK\n",
    "\n",
    "If you don't have it there are different ways to install it. \n",
    "\n",
    "* The NLTK 3.0 documentation has a page on [Installing NLTK](http://www.nltk.org/install.html).\n",
    "* You can have Anaconda install or update it for you. See [Using Anaconda Navigator](https://docs.continuum.io/anaconda/navigator-using#) and scroll down to the part about updating packages. Basically you click on the check to the left of the package and pull down to \"Mark for upgrade\". Then click the Apply button below."
   ]
  },
  {
   "cell_type": "markdown",
   "metadata": {},
   "source": [
    "### Getting a Text\n",
    "\n",
    "Now we will get a text to process with NLTK."
   ]
  },
  {
   "cell_type": "markdown",
   "metadata": {},
   "source": [
    "First we see what text files we have. "
   ]
  },
  {
   "cell_type": "code",
   "execution_count": 2,
   "metadata": {},
   "outputs": [
    {
     "name": "stdout",
     "output_type": "stream",
     "text": [
      "Hume Enquiry.txt   negative.txt       positive.txt\r\n",
      "Hume Treatise.txt  obama_tweets.txt\r\n"
     ]
    }
   ],
   "source": [
    "ls *.txt"
   ]
  },
  {
   "cell_type": "markdown",
   "metadata": {},
   "source": [
    "We are going to use the \"Hume Enquiry.txt\" from the Gutenberg Project. You can use whatever text you want. We print the first 50 characters to check."
   ]
  },
  {
   "cell_type": "code",
   "execution_count": 3,
   "metadata": {},
   "outputs": [
    {
     "name": "stdout",
     "output_type": "stream",
     "text": [
      "This string has 366798 characters.\n",
      "The Project Gutenberg EBook of An Enquiry Concerni\n"
     ]
    }
   ],
   "source": [
    "theText2Use = \"Hume Enquiry.txt\"\n",
    "with open(theText2Use, \"r\") as fileToRead:\n",
    "    theString = fileToRead.read()\n",
    "    \n",
    "print(\"This string has\", len(theString), \"characters.\")\n",
    "print(theString[:50])"
   ]
  },
  {
   "cell_type": "markdown",
   "metadata": {},
   "source": [
    "### Tokenization\n",
    "\n",
    "Now we tokenize the text using NTLK's tokenizer producing a list called \"listOfTokens\" and check the first words. Note that the NTLK tokenizer doesn't eliminate punctuation and doesn't lower case the words. You can tokenize using another method if you want. Then we create a NLTK text object from the tokens. Note how the text <a href=\"Glossary.ipynb#Object\" title=\"Data which has attributes or values AND a defined behaviour.\" >object </a> behaves like a list of tokens."
   ]
  },
  {
   "cell_type": "code",
   "execution_count": 4,
   "metadata": {},
   "outputs": [
    {
     "name": "stdout",
     "output_type": "stream",
     "text": [
      "['The', 'Project', 'Gutenberg', 'EBook', 'of', 'An', 'Enquiry', 'Concerning', 'Human', 'Understanding', ',', 'by', 'David', 'Hume', 'and', 'L.', 'A.', 'Selby-Bigge', 'This', 'eBook', 'is', 'for', 'the', 'use', 'of', 'anyone', 'anywhere', 'at', 'no', 'cost', 'and', 'with', 'almost', 'no', 'restrictions', 'whatsoever', '.', 'You', 'may', 'copy', 'it', ',', 'give', 'it', 'away', 'or', 're-use', 'it', 'under', 'the']\n"
     ]
    }
   ],
   "source": [
    "listOfTokens = nltk.word_tokenize(theString)\n",
    "theText = nltk.Text(listOfTokens)\n",
    "print(listOfTokens[:50])"
   ]
  },
  {
   "cell_type": "markdown",
   "metadata": {},
   "source": [
    "## Concording\n",
    "\n",
    "Now we get a <a href=\"Glossary.ipynb#Concordance\" title=\"A list of all words within a text and their frequency of occurrence.\" >concordance </a> for a word in one line. Note that we can control the width of the concordances. Edit the word to explore."
   ]
  },
  {
   "cell_type": "code",
   "execution_count": 5,
   "metadata": {},
   "outputs": [
    {
     "name": "stdout",
     "output_type": "stream",
     "text": [
      "Displaying 25 of 3499 matches:\n",
      "                                                The Project Gutenberg EBook of An Enquiry Concernin\n",
      "                                                the use of anyone anywhere at no cost and with almo\n",
      "u may copy it , give it away or re-use it under the terms of the Project Gutenberg License included\n",
      " , give it away or re-use it under the terms of the Project Gutenberg License included with this eB\n",
      "AVID HUME Extracted from : Enquiries Concerning the Human Understanding , and Concerning the Princi\n",
      "erning the Human Understanding , and Concerning the Principles of Morals , By David Hume . Reprinte\n",
      "ples of Morals , By David Hume . Reprinted from The Posthumous Edition of 1777 , and Edited with In\n",
      " Oxford . Second Edition , 1902 CONTENTS I . Of the different Species of Philosophy II . Of the Ori\n",
      " Of the different Species of Philosophy II . Of the Origin of Ideas III . Of the Association of Ide\n",
      "Philosophy II . Of the Origin of Ideas III . Of the Association of Ideas IV . Sceptical Doubts conc\n",
      "ation of Ideas IV . Sceptical Doubts concerning the Operations of the Understanding V. Sceptical So\n",
      ". Sceptical Doubts concerning the Operations of the Understanding V. Sceptical Solution of these Do\n",
      "on of these Doubts VI . Of Probability VII . Of the Idea of necessary Connexion VIII . Of Liberty a\n",
      "nnexion VIII . Of Liberty and Necessity IX . Of the Reason of Animals X . Of Miracles XI . Of a par\n",
      "cular Providence and of a future State XII . Of the academical or sceptical Philosophy INDEX SECTIO\n",
      "al or sceptical Philosophy INDEX SECTION I . OF THE DIFFERENT SPECIES OF PHILOSOPHY . 1 . Moral phi\n",
      "ECIES OF PHILOSOPHY . 1 . Moral philosophy , or the science of human nature , may be treated after \n",
      " has its peculiar merit , and may contribute to the entertainment , instruction , and reformation o\n",
      "nt , instruction , and reformation of mankind . The one considers man chiefly as born for action ; \n",
      "ne object , and avoiding another , according to the value which these objects seem to possess , and\n",
      "hese objects seem to possess , and according to the light in which they present themselves . As vir\n",
      ". As virtue , of all objects , is allowed to be the most valuable , this species of philosophers pa\n",
      "ble , this species of philosophers paint her in the most amiable colours ; borrowing all helps from\n",
      "s manner , and such as is best fitted to please the imagination , and engage the affections . They \n",
      "t fitted to please the imagination , and engage the affections . They select the most striking obse\n"
     ]
    }
   ],
   "source": [
    "theText.concordance(\"the\", width=100)"
   ]
  },
  {
   "cell_type": "markdown",
   "metadata": {},
   "source": [
    "Note that ```concordance``` is not case sensitive. This will give you a concordance of both capitalized and lower case words.\n",
    "\n",
    "If you want more lines then you need to add a parameter."
   ]
  },
  {
   "cell_type": "code",
   "execution_count": 6,
   "metadata": {},
   "outputs": [
    {
     "name": "stdout",
     "output_type": "stream",
     "text": [
      "Displaying 30 of 3499 matches:\n",
      "                                      The Project Gutenberg EBook of An Enquiry\n",
      "d L. A. Selby-Bigge This eBook is for the use of anyone anywhere at no cost and\n",
      " it , give it away or re-use it under the terms of the Project Gutenberg Licens\n",
      " away or re-use it under the terms of the Project Gutenberg License included wi\n",
      "Extracted from : Enquiries Concerning the Human Understanding , and Concerning \n",
      " Human Understanding , and Concerning the Principles of Morals , By David Hume \n",
      "rals , By David Hume . Reprinted from The Posthumous Edition of 1777 , and Edit\n",
      "Second Edition , 1902 CONTENTS I . Of the different Species of Philosophy II . \n",
      "fferent Species of Philosophy II . Of the Origin of Ideas III . Of the Associat\n",
      " II . Of the Origin of Ideas III . Of the Association of Ideas IV . Sceptical D\n",
      "deas IV . Sceptical Doubts concerning the Operations of the Understanding V. Sc\n",
      "l Doubts concerning the Operations of the Understanding V. Sceptical Solution o\n",
      "e Doubts VI . Of Probability VII . Of the Idea of necessary Connexion VIII . Of\n",
      "II . Of Liberty and Necessity IX . Of the Reason of Animals X . Of Miracles XI \n",
      "idence and of a future State XII . Of the academical or sceptical Philosophy IN\n",
      "tical Philosophy INDEX SECTION I . OF THE DIFFERENT SPECIES OF PHILOSOPHY . 1 .\n",
      "HILOSOPHY . 1 . Moral philosophy , or the science of human nature , may be trea\n",
      "eculiar merit , and may contribute to the entertainment , instruction , and ref\n",
      "uction , and reformation of mankind . The one considers man chiefly as born for\n",
      ", and avoiding another , according to the value which these objects seem to pos\n",
      "ts seem to possess , and according to the light in which they present themselve\n",
      "e , of all objects , is allowed to be the most valuable , this species of philo\n",
      " species of philosophers paint her in the most amiable colours ; borrowing all \n",
      " and such as is best fitted to please the imagination , and engage the affectio\n",
      "o please the imagination , and engage the affections . They select the most str\n",
      "d engage the affections . They select the most striking observations and instan\n",
      "roper contrast ; and alluring us into the paths of virtue by the views of glory\n",
      "luring us into the paths of virtue by the views of glory and happiness , direct\n",
      " , direct our steps in these paths by the soundest precepts and most illustriou\n",
      "trious examples . They make us _feel_ the difference between vice and virtue ; \n"
     ]
    }
   ],
   "source": [
    "theText.concordance(\"the\", lines=30)"
   ]
  },
  {
   "cell_type": "markdown",
   "metadata": {},
   "source": [
    "One thing that is annoying is that you can't easily save a <a href=\"Glossary.ipynb#Concordance\" title=\"A list of all words within a text and their frequency of occurrence.\" >concordance </a> to a file and that is because the NLTK text <a href=\"Glossary.ipynb#Object\" title=\"Data which has attributes or values AND a defined behaviour.\" >object </a> concordance is printed to the screen for exploration. You will need to cut and paste to a word processor to save this."
   ]
  },
  {
   "cell_type": "markdown",
   "metadata": {},
   "source": [
    "### Plot the Dispersion of Words\n",
    "\n",
    "We can easily <a href=\"Glossary.ipynb#dispersionplot\" title=\"A graph which uses cartesian coordinates to display values for multiple variables of a set of data.\" >plot </a> the dispersion of words through the text. Note how it is case sensitive.\n",
    "\n",
    "The line ```%matplotlib inline``` makes sure that the plot is placed inline."
   ]
  },
  {
   "cell_type": "code",
   "execution_count": 7,
   "metadata": {},
   "outputs": [
    {
     "data": {
      "image/png": "[encoded data removed]",
      "text/plain": [
       "<matplotlib.figure.Figure at 0x1131f3cc0>"
      ]
     },
     "metadata": {},
     "output_type": "display_data"
    }
   ],
   "source": [
    "%matplotlib inline\n",
    "theText.dispersion_plot([\"Truth\",\"truth\"])"
   ]
  },
  {
   "cell_type": "markdown",
   "metadata": {},
   "source": [
    "### Counting Words and Frequencies\n",
    "\n",
    "You can also count words. This is case sensitive if you use the text <a href=\"Glossary.ipynb#Object\" title=\"Data which has attributes or values AND a defined behaviour.\" >object. </a>"
   ]
  },
  {
   "cell_type": "code",
   "execution_count": 8,
   "metadata": {},
   "outputs": [
    {
     "name": "stdout",
     "output_type": "stream",
     "text": [
      "1   20\n"
     ]
    }
   ],
   "source": [
    "print(theText.count(\"Truth\"), \" \", theText.count(\"truth\"))"
   ]
  },
  {
   "cell_type": "markdown",
   "metadata": {},
   "source": [
    "To make it case insensitive we are going to use [list comprehension](http://python-3-patterns-idioms-test.readthedocs.io/en/latest/Comprehensions.html) to lowercase every token and get a new list of tokens. We are also going to get rid of punctuation using a parameter. Then we can count things in the list."
   ]
  },
  {
   "cell_type": "code",
   "execution_count": 9,
   "metadata": {},
   "outputs": [
    {
     "name": "stdout",
     "output_type": "stream",
     "text": [
      "['the', 'project', 'gutenberg', 'ebook', 'of', 'an', 'enquiry', 'concerning', 'human', 'understanding', 'by', 'david', 'hume', 'and', 'l.', 'a.', 'selby-bigge', 'this', 'ebook', 'is']\n"
     ]
    }
   ],
   "source": [
    "theLowerTokens = [token.lower() for token in listOfTokens if token[0].isalpha()]\n",
    "print(theLowerTokens[:20])"
   ]
  },
  {
   "cell_type": "code",
   "execution_count": 10,
   "metadata": {},
   "outputs": [
    {
     "data": {
      "text/plain": [
       "21"
      ]
     },
     "execution_count": 10,
     "metadata": {},
     "output_type": "execute_result"
    }
   ],
   "source": [
    "theLowerTokens.count(\"truth\")"
   ]
  },
  {
   "cell_type": "markdown",
   "metadata": {},
   "source": [
    "With NLTK we can get word frequencies. These can be displayed as a table. We can then do other things with the frequency distribution <a href=\"Glossary.ipynb#Object\" title=\"Data which has attributes or values AND a defined behaviour.\" >object. </a>"
   ]
  },
  {
   "cell_type": "code",
   "execution_count": 11,
   "metadata": {},
   "outputs": [
    {
     "name": "stdout",
     "output_type": "stream",
     "text": [
      "  the    of   and    to     a    in  that    is    it which    or    be    we    by  from \n",
      " 3499  2848  2210  1809  1165  1117  1002   955   786   750   711   674   663   564   529 \n"
     ]
    }
   ],
   "source": [
    "theLowerFreqs = nltk.FreqDist(theLowerTokens)\n",
    "theLowerFreqs.tabulate(15)"
   ]
  },
  {
   "cell_type": "code",
   "execution_count": 12,
   "metadata": {},
   "outputs": [
    {
     "data": {
      "text/plain": [
       "21"
      ]
     },
     "execution_count": 12,
     "metadata": {},
     "output_type": "execute_result"
    }
   ],
   "source": [
    "theLowerFreqs[\"truth\"]"
   ]
  },
  {
   "cell_type": "markdown",
   "metadata": {},
   "source": [
    "Rather than get the count we can get the relative frequency which is the count divided by the number of tokens."
   ]
  },
  {
   "cell_type": "code",
   "execution_count": 13,
   "metadata": {},
   "outputs": [
    {
     "data": {
      "text/plain": [
       "0.058443293803240356"
      ]
     },
     "execution_count": 13,
     "metadata": {},
     "output_type": "execute_result"
    }
   ],
   "source": [
    "theLowerFreqs.freq(\"the\")"
   ]
  },
  {
   "cell_type": "markdown",
   "metadata": {},
   "source": [
    "## Plot the Frequency of Words\n",
    "We can also plot the high frequency words."
   ]
  },
  {
   "cell_type": "code",
   "execution_count": 14,
   "metadata": {},
   "outputs": [
    {
     "data": {
      "image/png": "[encoded data removed]",
      "text/plain": [
       "<matplotlib.figure.Figure at 0x113455400>"
      ]
     },
     "metadata": {},
     "output_type": "display_data"
    }
   ],
   "source": [
    "%matplotlib inline\n",
    "theLowerFreqs.plot(30)"
   ]
  },
  {
   "cell_type": "markdown",
   "metadata": {},
   "source": [
    "### Plotting Content Words\n",
    "\n",
    "What if we want to see just the high frequency content words. Here we get the NLTK English <a href=\"Glossary.ipynb#stopwords\" title=\"A list of words which are programmed to be ignored or filtered in analysis and search queries.\" >stop-word </a> list."
   ]
  },
  {
   "cell_type": "code",
   "execution_count": 15,
   "metadata": {},
   "outputs": [
    {
     "name": "stdout",
     "output_type": "stream",
     "text": [
      "['i', 'me', 'my', 'myself', 'we', 'our', 'ours', 'ourselves', 'you', 'your', 'yours', 'yourself', 'yourselves', 'he', 'him', 'his', 'himself', 'she', 'her', 'hers']\n"
     ]
    }
   ],
   "source": [
    "stopwords = nltk.corpus.stopwords.words(\"english\")\n",
    "print(stopwords[:20])"
   ]
  },
  {
   "cell_type": "markdown",
   "metadata": {},
   "source": [
    "We need to create a new list of tokens without the stopwords."
   ]
  },
  {
   "cell_type": "code",
   "execution_count": 16,
   "metadata": {},
   "outputs": [
    {
     "data": {
      "text/plain": [
       "['project',\n",
       " 'gutenberg',\n",
       " 'ebook',\n",
       " 'enquiry',\n",
       " 'concerning',\n",
       " 'human',\n",
       " 'understanding',\n",
       " 'david',\n",
       " 'hume',\n",
       " 'l.']"
      ]
     },
     "execution_count": 16,
     "metadata": {},
     "output_type": "execute_result"
    }
   ],
   "source": [
    "theLowerContentWords = [token for token in theLowerTokens if token not in stopwords]\n",
    "theLowerContentWords[:10]"
   ]
  },
  {
   "cell_type": "markdown",
   "metadata": {},
   "source": [
    "Now we can create a table of high frequency content words."
   ]
  },
  {
   "cell_type": "code",
   "execution_count": 17,
   "metadata": {},
   "outputs": [
    {
     "name": "stdout",
     "output_type": "stream",
     "text": [
      "       may        one     nature       must         us experience      cause      human       mind      never \n",
      "       295        203        200        177        169        166        157        149        145        125 \n"
     ]
    }
   ],
   "source": [
    "theLowerContFreqs = nltk.FreqDist(theLowerContentWords)\n",
    "theLowerContFreqs.tabulate(10)"
   ]
  },
  {
   "cell_type": "markdown",
   "metadata": {},
   "source": [
    "If you still see words you want to remove then you need to remove them too. Note that this next <a href=\"Glossary.ipynb#cell\" title=\"An input strucutre in a Notebook which runs either Markdown or Python code\" >cell </a> updates what is in the <a href=\"Glossary.ipynb#Variable\" title=\"A variable stores a piece of data and gives it a specific name\" >variables </a> ```theLowerContentWords``` and ```theLowerContFreqs```. If you want to go recover the words you need to start **3.1** over."
   ]
  },
  {
   "cell_type": "code",
   "execution_count": 18,
   "metadata": {},
   "outputs": [
    {
     "name": "stdout",
     "output_type": "stream",
     "text": [
      "    nature experience      cause      human       mind     effect      ideas    objects       idea     reason \n",
      "       200        166        157        149        145        124        120        120        116        116 \n"
     ]
    }
   ],
   "source": [
    "moreStopwords = [\"may\",\"one\",\"must\",\"us\",\"never\",\"every\"]\n",
    "theLowerContentWords = [token for token in theLowerContentWords if token not in moreStopwords]\n",
    "theLowerContFreqs = nltk.FreqDist(theLowerContentWords)\n",
    "theLowerContFreqs.tabulate(10)"
   ]
  },
  {
   "cell_type": "markdown",
   "metadata": {},
   "source": [
    "And now we get the Frequency Distribution and plot it."
   ]
  },
  {
   "cell_type": "code",
   "execution_count": 19,
   "metadata": {},
   "outputs": [
    {
     "data": {
      "image/png": "[encoded data removed]",
      "text/plain": [
       "<matplotlib.figure.Figure at 0x117469d68>"
      ]
     },
     "metadata": {},
     "output_type": "display_data"
    }
   ],
   "source": [
    "theLowerContFreqs.plot(30)"
   ]
  },
  {
   "cell_type": "markdown",
   "metadata": {},
   "source": [
    "We might also want to check how these words are used by looking at their <a href=\"Glossary.ipynb#Concordance\" title=\"A list of all words within a text and their frequency of occurrence.\" >concordance. </a>"
   ]
  },
  {
   "cell_type": "code",
   "execution_count": 20,
   "metadata": {},
   "outputs": [
    {
     "name": "stdout",
     "output_type": "stream",
     "text": [
      "Displaying 5 of 103 matches:\n",
      " in the subdividing and balancing of power ; the lawyer more method and finer p\n",
      "n , which not only escapes all human power and authority , but is not even rest\n",
      "ceived ; nor is any thing beyond the power of thought , except what implies an \n",
      " limits , and that all this creative power of the mind amounts to no more than \n",
      "o show distinctly the action of that power , which produces any single effect i\n"
     ]
    }
   ],
   "source": [
    "theText.concordance(\"power\", width=80, lines=5)"
   ]
  },
  {
   "cell_type": "markdown",
   "metadata": {},
   "source": [
    "## Collocations, Similar Words, and Contexts\n",
    "\n",
    "### Collocations\n",
    "\n",
    "NLTK will also let you explore co-locating words by which is meant sets of two or more words that appear frequently together."
   ]
  },
  {
   "cell_type": "code",
   "execution_count": 21,
   "metadata": {},
   "outputs": [
    {
     "name": "stdout",
     "output_type": "stream",
     "text": [
      "Project Gutenberg-tm; Project Gutenberg; Literary Archive; Gutenberg-\n",
      "tm electronic; common life; Archive Foundation; electronic works;\n",
      "Gutenberg Literary; sensible qualities; United States\n"
     ]
    }
   ],
   "source": [
    "theText.collocations(10)"
   ]
  },
  {
   "cell_type": "markdown",
   "metadata": {},
   "source": [
    "Note how we are getting a lot of bigrams with \"Gutenberg\". That's because NLTK looks for bigrams where the words appear together more often than alone. If you ask for more collocations you can see some that have to do with the text."
   ]
  },
  {
   "cell_type": "code",
   "execution_count": 22,
   "metadata": {},
   "outputs": [
    {
     "name": "stdout",
     "output_type": "stream",
     "text": [
      "Project Gutenberg-tm; Project Gutenberg; Literary Archive; Gutenberg-\n",
      "tm electronic; common life; Archive Foundation; electronic works;\n",
      "Gutenberg Literary; sensible qualities; United States; external\n",
      "objects; human nature; set forth; human testimony; voluntary actions;\n",
      "electronic work; necessary connexion; public domain; secret powers;\n",
      "Gutenberg-tm License; regular conjunction; human life; _in infinitum_;\n",
      "reasonings concerning; usual attendant; one object; constantly\n",
      "conjoined; David Hume; universally allowed; human understanding; seems\n",
      "evident; concerning matter; Human Understanding; copyright holder;\n",
      "take place; simple ideas; real existence; every moment; may observe;\n",
      "shall find; certain degree; infinitely less; CONCERNING HUMAN; ENQUIRY\n",
      "CONCERNING; HUMAN UNDERSTANDING; PROJECT GUTENBERG; past experience;\n",
      "Enquiry Concerning; one event; give rise; good fortune; conjoined\n",
      "together; human actions; customary transition; infinite number; must\n",
      "confess; constant conjunction; common sense; narrow limits; mutual\n",
      "destruction; strictly examined; first appearance; conclusions\n",
      "concerning; one instance; primary qualities; Concerning Human; mental\n",
      "geography; physical points; experimental reasoning; universally\n",
      "acknowledged; natural instinct; inward sentiment; universal doubt;\n",
      "paragraph 1.F.3; two kinds; may serve; new effects; uniform\n",
      "experience; usual course; Distributed Proofreaders; Jonathan Ingram;\n",
      "Plain Vanilla; Vanilla ASCII; _Christian Religion_; _necessary\n",
      "connexion_; _vis inertiae_; secondary qualities; natural events;\n",
      "derivative works; Gutenberg-tm trademark; greater variety; well known;\n",
      "distinctly conceived; may seem; strong presumption; divine existence;\n",
      "similar instances; draw inferences; human reason; human action\n"
     ]
    }
   ],
   "source": [
    "theText.collocations(100)"
   ]
  },
  {
   "cell_type": "markdown",
   "metadata": {},
   "source": [
    "### Similar Words\n",
    "\n",
    "We can get words that are **similar** to target words. These are not synonyms but words being used in similar contexts. You can use this to expland on a word you are interested in."
   ]
  },
  {
   "cell_type": "code",
   "execution_count": 23,
   "metadata": {},
   "outputs": [
    {
     "name": "stdout",
     "output_type": "stream",
     "text": [
      "cause reason nature men it ideas necessity mankind action objects\n",
      "conduct them body power experience resemblance first miracles science\n",
      "life\n"
     ]
    }
   ],
   "source": [
    "theText.similar(\"truth\")"
   ]
  },
  {
   "cell_type": "markdown",
   "metadata": {},
   "source": [
    "You can use this to get concordances of sets of similar words."
   ]
  },
  {
   "cell_type": "code",
   "execution_count": 24,
   "metadata": {},
   "outputs": [
    {
     "name": "stdout",
     "output_type": "stream",
     "text": [
      "REASON: \n",
      "Displaying 5 of 116 matches:\n",
      "Of Liberty and Necessity IX . Of the Reason of Animals X . Of Miracles XI . Of a\n",
      "eigns . 7 . But is this a sufficient reason , why philosophers should desist fro\n",
      "iscover the proper province of human reason . For , besides , that many persons \n",
      "er parts of nature . And there is no reason to despair of equal success in our e\n",
      "RT I . 20 . All the objects of human reason or enquiry may naturally be divided \n",
      "--------------------------------------------------\n",
      "\n",
      "FACT: \n",
      "Displaying 5 of 89 matches:\n",
      "tainty and evidence . 21 . Matters of fact , which are the second objects of hum\n",
      "ing . The contrary of every matter of fact is still possible ; because it can ne\n",
      "s of any real existence and matter of fact , beyond the present testimony of our\n",
      ". All reasonings concerning matter of fact seem to be founded on the relation of\n",
      "a man , why he believes any matter of fact , which is absent ; for instance , th\n",
      "--------------------------------------------------\n",
      "\n",
      "KNOWLEDGE: \n",
      "Displaying 5 of 37 matches:\n",
      "prehension , possesses an accurate knowledge of the internal fabric , the opera\n",
      " make any addition to our stock of knowledge , in subjects of such unspeakable \n",
      " letter received from him , or the knowledge of his former resolutions and prom\n",
      " must enquire how we arrive at the knowledge of cause and effect . I shall vent\n",
      " admits of no exception , that the knowledge of this relation is not , in any i\n",
      "--------------------------------------------------\n",
      "\n",
      "IDEAS: \n",
      "Displaying 5 of 120 matches:\n",
      " of Philosophy II . Of the Origin of Ideas III . Of the Association of Ideas IV\n",
      "of Ideas III . Of the Association of Ideas IV . Sceptical Doubts concerning the\n",
      "rror ! SECTION II . OF THE ORIGIN OF IDEAS . 11 . Every one will readily allow \n",
      "d impressions are distinguished from ideas , which are the less lively percepti\n",
      "untain , we only join two consistent ideas , _gold_ , and _mountain_ , with whi\n",
      "--------------------------------------------------\n",
      "\n"
     ]
    }
   ],
   "source": [
    "listOfWords2Conc = [\"reason\",\"fact\",\"knowledge\",\"ideas\"]\n",
    "for i in listOfWords2Conc:\n",
    "    print(i.upper() + \": \")\n",
    "    theText.concordance(i, width=80, lines=5)\n",
    "    print(\"--------------------------------------------------\\n\")"
   ]
  },
  {
   "cell_type": "markdown",
   "metadata": {},
   "source": [
    "### Common Contexts\n",
    "\n",
    "NLTK can give us common contexts for words that share them."
   ]
  },
  {
   "cell_type": "code",
   "execution_count": 25,
   "metadata": {},
   "outputs": [
    {
     "name": "stdout",
     "output_type": "stream",
     "text": [
      "human_it from_and of_are in_and of_but this_he by_that of_which of_in\n",
      "the_and\n"
     ]
    }
   ],
   "source": [
    "theText.common_contexts([\"nature\", \"experience\"],10)"
   ]
  },
  {
   "cell_type": "markdown",
   "metadata": {},
   "source": [
    "## Finding Patterns\n",
    "\n",
    "We can use <a href=\"Glossary.ipynb#regularexpressions\" title=\"The sequence of characters which define a search pattern.\" >regular expressions </a> on tokens with the ```findall``` method of the Text <a href=\"Glossary.ipynb#Object\" title=\"Data which has attributes or values AND a defined behaviour.\" >object. </a> Some guidelines:\n",
    "\n",
    "* You are matching to tokens, not the raw text. The < and > indicates the token.\n",
    "* ```<.*>``` matches any token as ```.``` means any character and ```*``` means 0 or more of. ```?``` would mean \n",
    "* The parantheses tell IPython what to show from the match. In the first example below you can see how to show all the words right before the word you want.\n",
    "\n",
    "Here are some examples."
   ]
  },
  {
   "cell_type": "code",
   "execution_count": 26,
   "metadata": {},
   "outputs": [
    {
     "name": "stdout",
     "output_type": "stream",
     "text": [
      "and; from; by; by; to; without; by; not; and; ,; assist; by; to; from;\n",
      "have; that; this; past; from; from; of; to; of; of; by; from; all;\n",
      "from; past; by; from; more; more; this; his; from; from; and; of; and;\n",
      "pure; is; farther; of; our; from; daily; any; and; from; without;\n",
      "from; by; besides; of; from; And; common; by; we; by; except; certain;\n",
      "by; and; and; fancied; of; by; without; have; this; have; this;\n",
      "uniform; and; that; of; no; and; past; past; the; our; seeming; from;\n",
      "and; not; even; past; greater; 's; and; Though; to; of; infallible;\n",
      "past; our; by; past; the; from; this; of; uniform; his; have; uniform;\n",
      "unalterable; from; uniform; uniform; no; we; regular; is; same; of;\n",
      "the; and; from; past; my; human; make; same; by; in; other; from; of;\n",
      "If; By; here; any; from; our; and; on; only; by; from; from; by; from;\n",
      "long; by; from; from; and; of; by; uniform; and; of; by; .; to; for;\n",
      "only; from; .\n"
     ]
    }
   ],
   "source": [
    "theText.findall(\"(<.*>)<experience>\")"
   ]
  },
  {
   "cell_type": "code",
   "execution_count": 27,
   "metadata": {},
   "outputs": [
    {
     "name": "stdout",
     "output_type": "stream",
     "text": [
      "of human nature; regard human nature; , that nature; into the nature;\n",
      "of human nature; derived from nature; parts of nature; concerning\n",
      "human nature; limits of nature; , where nature; concerning their\n",
      "nature; triangle in nature; a like nature; is the nature; the same\n",
      "nature; of this nature; concerning the nature; course of nature;\n",
      "course of nature; laws of nature; discover in nature; established by\n",
      "nature; is the nature; , that nature; of their nature; course of\n",
      "nature; of human nature; similarity which nature; Of what nature;\n",
      "course of nature; learned the nature; Their secret nature; and\n",
      "transitory nature; as human nature; of human nature; priori_ the\n",
      "nature; of human nature; of human nature; of this nature; accurately\n",
      "the nature; excited by nature; the whole nature; the peculiar nature;\n",
      "observed that nature; the same nature; a similar nature; course of\n",
      "nature; works of nature; wisdom of nature; . As nature; the very\n",
      "nature; contrivance of nature; constitutes the nature; irregularity in\n",
      "nature; how soon nature; productions in nature; in all nature; and the\n",
      "nature; with the nature; and the nature; with the nature; scenes of\n",
      "nature; operations of nature; powers of nature; appears in nature;\n",
      "force in nature; author of nature; They rob nature; throughout all\n",
      "nature; course of nature; of this nature; laws of nature; scenes of\n",
      "nature; operations of nature; operations of nature; that human nature;\n",
      "of human nature; with the nature; course of nature; of human nature;\n",
      "of human nature; part of nature; characters which nature; course of\n",
      "nature; part of nature; laws of nature; of human nature; part of\n",
      "nature; the same nature; the inflexible nature; but their nature; of\n",
      "human nature; a similar nature; powers of nature; being in nature;\n",
      "their very nature; of that nature; phenomena of nature; system of\n",
      "nature; formed by nature; intention of nature; of the nature; course\n",
      "of nature; of this nature; uniformity of nature; hand of nature; a\n",
      "like nature; in human nature; state of nature; is placing nature;\n",
      "course of nature; laws of nature; the very nature; laws of nature;\n",
      "course of nature; from the nature; laws of nature; laws of nature;\n",
      "laws of nature; contrary to nature; law of nature; not its nature; in\n",
      "human nature; frame of nature; from human nature; the public nature;\n",
      "_singular_ a nature; of this nature; or miraculous nature; by the\n",
      "nature; of this nature; laws of nature; the very nature; laws of\n",
      "nature; course of nature; dissolution of nature; laws of nature;\n",
      "course of nature; laws of nature; extraordinary in nature; of human\n",
      "nature; of human nature; order of nature; phenomena of nature;\n",
      "phenomena in nature; appearances of nature; appearances of nature;\n",
      "course of nature; course of nature; course of nature; order of nature;\n",
      "course of nature; course of nature; course of nature; course of\n",
      "nature; course of nature; order of nature; laws which nature; with the\n",
      "nature; works of nature; works of nature; Author of nature; course of\n",
      "nature; In human nature; course of nature; delicate a nature;\n",
      "particular a nature; of this nature; a like nature; from the nature;\n",
      "instinct of nature; instincts of nature; instinct of nature; contrary\n",
      "a nature; a like nature; propensities of nature; a like nature; of our\n",
      "nature; of our nature; necessities of nature; in human nature;\n",
      "situation of nature; us the nature; course of nature; entrusted by\n",
      "nature; production in nature; . Human nature; course of nature; in\n",
      "human nature; of human nature; course of nature; , for nature; design\n",
      "in nature; appears in nature; match for nature\n"
     ]
    }
   ],
   "source": [
    "theText.findall(\"<.*><.*><nature>\")"
   ]
  },
  {
   "cell_type": "code",
   "execution_count": 28,
   "metadata": {},
   "outputs": [
    {
     "name": "stdout",
     "output_type": "stream",
     "text": [
      "talk of; is a; and a; , and; of their; the same; love of; . The;\n",
      "discovery of; for the; for the; inclination to; distinguish between;\n",
      "violation of; violations of; depart from; to reach; _criteria_ of;\n",
      "with great; love of\n"
     ]
    }
   ],
   "source": [
    "theText.findall(\"(<.*><.*>)<truth>\")"
   ]
  },
  {
   "cell_type": "code",
   "execution_count": 29,
   "metadata": {},
   "outputs": [
    {
     "name": "stdout",
     "output_type": "stream",
     "text": [
      "not universally true; not a true; not true\n"
     ]
    }
   ],
   "source": [
    "theText.findall(\"<not><.*>?<true>\")"
   ]
  },
  {
   "cell_type": "markdown",
   "metadata": {},
   "source": [
    "---\n",
    "[CC BY-SA](https://creativecommons.org/licenses/by-sa/4.0/) From [The Art of Literary Text Analysis](../ArtOfLiteraryTextAnalysis.ipynb) by [Stéfan Sinclair](http://stefansinclair.name) &amp; [Geoffrey Rockwell](http://geoffreyrockwell.com). Edited and revised by [Melissa Mony](http://melissamony.com). <br >Created October 10th, 2016 (Jupyter 4.2.1)"
   ]
  },
  {
   "cell_type": "code",
   "execution_count": null,
   "metadata": {
    "collapsed": true
   },
   "outputs": [],
   "source": []
  }
 ],
 "metadata": {
  "kernelspec": {
   "display_name": "Python 3",
   "language": "python",
   "name": "python3"
  },
  "language_info": {
   "codemirror_mode": {
    "name": "ipython",
    "version": 3
   },
   "file_extension": ".py",
   "mimetype": "text/x-python",
   "name": "python",
   "nbconvert_exporter": "python",
   "pygments_lexer": "ipython3",
   "version": "3.6.3"
  }
 },
 "nbformat": 4,
 "nbformat_minor": 1
}
