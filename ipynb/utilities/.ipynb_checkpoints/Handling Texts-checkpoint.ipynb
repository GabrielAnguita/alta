{
 "cells": [
  {
   "cell_type": "markdown",
   "metadata": {},
   "source": [
    "# Handling Texts\n",
    "\n",
    "This notebook shows how you can handle texts you already have."
   ]
  },
  {
   "cell_type": "markdown",
   "metadata": {},
   "source": [
    "## Opening text files"
   ]
  },
  {
   "cell_type": "code",
   "execution_count": null,
   "metadata": {},
   "outputs": [],
   "source": [
    "ls"
   ]
  },
  {
   "cell_type": "code",
   "execution_count": 1,
   "metadata": {},
   "outputs": [
    {
     "name": "stdout",
     "output_type": "stream",
     "text": [
      "This string has 1344061 characters.\n"
     ]
    }
   ],
   "source": [
    "# Importing a text file\n",
    "with open(\"Hume Treatise.txt\", \"r\") as f:\n",
    "    Text1 = f.read()\n",
    "    \n",
    "print(\"This string has\", len(Text1), \"characters.\")"
   ]
  },
  {
   "cell_type": "code",
   "execution_count": 2,
   "metadata": {},
   "outputs": [
    {
     "name": "stdout",
     "output_type": "stream",
     "text": [
      "This string has 1,344,061 characters\n"
     ]
    }
   ],
   "source": [
    "print(\"This string has\", \"{:,}\".format(len(Text1)), \"characters\") # This uses a mini format language"
   ]
  },
  {
   "cell_type": "markdown",
   "metadata": {},
   "source": [
    "## Simple handling"
   ]
  },
  {
   "cell_type": "markdown",
   "metadata": {},
   "source": [
    "### Extracting the Text\n",
    "Now we want to get just the text out and remove the Gutenberg stuff."
   ]
  },
  {
   "cell_type": "code",
   "execution_count": 3,
   "metadata": {},
   "outputs": [
    {
     "name": "stdout",
     "output_type": "stream",
     "text": [
      "*** START OF THIS PROJECT GUTENBERG EBOOK A TREATISE OF HUMAN NATURE ***\n",
      "\n",
      "\n",
      "\n",
      "\n",
      "Produced by Col Choat\n",
      "\n",
      " \n",
      "+++++++++++++++++++++\n",
      " e\n",
      "same object can only be different by their different feeling, I should\n",
      "have been nearer the truth.\n"
     ]
    }
   ],
   "source": [
    "startText = \"*** START OF THIS PROJECT GUTENBERG EBOOK\"\n",
    "endText = \"End of Project Gutenberg's A Treatise of Human Nature, by David Hume\"\n",
    "\n",
    "start = Text1.find(startText)\n",
    "end = Text1.find(endText)\n",
    "HumeString1 = Text1[start:end].strip()\n",
    "print(HumeString1[:100:],\"\\n+++++++++++++++++++++\\n\",HumeString1[-100:])"
   ]
  },
  {
   "cell_type": "markdown",
   "metadata": {},
   "source": [
    "### Finding things\n",
    "\n",
    "Now we will use the built in tools to find things and show context."
   ]
  },
  {
   "cell_type": "code",
   "execution_count": 4,
   "metadata": {},
   "outputs": [
    {
     "name": "stdout",
     "output_type": "stream",
     "text": [
      "2\n",
      "70\n",
      "72\n"
     ]
    }
   ],
   "source": [
    "## This will count the instances of the word we want.\n",
    "## Note how I handle the possibility of a capitalized version of the word\n",
    "print(HumeString1.count(\"Truth\"))\n",
    "print(HumeString1.count(\"truth\"))\n",
    "print((HumeString1.count(\"truth\") + HumeString1.count(\"Truth\")))"
   ]
  },
  {
   "cell_type": "code",
   "execution_count": 50,
   "metadata": {},
   "outputs": [
    {
     "name": "stdout",
     "output_type": "stream",
     "text": [
      "What word to find?thened\n",
      "e same difficulties, it is burthened with some additional\n",
      "on \n",
      "\n",
      "le contempt is likewise\n",
      "strengthened by the two relations of \n",
      "\n",
      " \n",
      "\n",
      "------------------------------------------------------\n",
      "Thened\n",
      " \n",
      "\n"
     ]
    }
   ],
   "source": [
    "word2find = input(\"What word to find?\")\n",
    "context = 30\n",
    "start = 0\n",
    "while start != -1:\n",
    "    start = HumeString1.find(word2find,start+1)\n",
    "    print(HumeString1[(start-context):(start+context)].strip(\"\\n\"), \"\\n\")\n",
    "print(\"------------------------------------------------------\")\n",
    "word2find2 = word2find.capitalize()\n",
    "print(word2find2)\n",
    "start = 0\n",
    "while start != -1:\n",
    "    start = HumeString1.find(word2find2,start+1)\n",
    "    print(HumeString1[(start-context):(start+context)].strip(\"\\n\"), \"\\n\")"
   ]
  },
  {
   "cell_type": "code",
   "execution_count": 51,
   "metadata": {},
   "outputs": [
    {
     "name": "stdout",
     "output_type": "stream",
     "text": [
      "What root to look for?the\n",
      "Number of matches  21682\n",
      "Variant forms:  {'mathematician', 'burthened', 'strengthen', 'THERE', 'theory', 'Father', 'Mathematical', 'hypothesis', 'Otherwise', 'FARTHER', 'Theologians', 'otherwise', 'Either', 'others', 'strengthening', 'further', 'either', 'sympathetic', 'theirs', 'mathematics', 'farthest', 'breathe', 'anther', 'Others', 'then', 'mathematical', 'Neither', 'ether', 'hypotheses', 'there', 'strengthens', 'ANOTHER', 'farther', 'neither', 'authentic', 'father', 'atheist', 'Athenians', 'smoother', 'They', 'forefathers', 'other', 'Then', 'brothers', 'nevertheless', 'Other', 'Mathematics', 'Another', 'There', 'another', 'theft', 'their', 'hitherto', 'together', 'thereby', 'THEM', 'OTHERS', 'Whether', 'The', 'brother', 'thence', 'Themistocles', 'the', 'whether', 'them', 'THE', 'therefore', 'THESE', 'theologians', 'these', 'atheists', 'theatre', 'tothe', 'weather', 'mathematicians', 'atheism', 'These', 'THEY', 'themselves', 'hypothetical', 'THEREFORE', 'THEIR', 'WHETHER', 'Their', 'grandfather', 'Rather', 'northern', 'Mathematician', 'rather', 'altogether', 'they', 'OTHER', 'gathers', 'mothers', 'mother', 'strengthened'}\n"
     ]
    }
   ],
   "source": [
    "import re\n",
    "word2check = input(\"What root to look for?\")\n",
    "pattern2check = \"\\w*\" + word2check + \"\\w*\" \n",
    "# \\w matches a word character, \\w* means match zero, one or more word characters\n",
    "# By deleting the \"\\w*\" on either side you \n",
    "theMatches = re.compile(pattern2check, re.IGNORECASE).findall(HumeString1)\n",
    "print(\"Number of matches \", len(theMatches))\n",
    "print(\"Variant forms: \", set(theMatches)) # set removes duplicates"
   ]
  },
  {
   "cell_type": "markdown",
   "metadata": {},
   "source": [
    "## Simple exploration using NLTK\n",
    "Now we will show how to use NLTK to do more."
   ]
  },
  {
   "cell_type": "markdown",
   "metadata": {},
   "source": [
    "First we have to import the NLTK library."
   ]
  },
  {
   "cell_type": "code",
   "execution_count": 6,
   "metadata": {
    "collapsed": true
   },
   "outputs": [],
   "source": [
    "import nltk"
   ]
  },
  {
   "cell_type": "markdown",
   "metadata": {},
   "source": [
    "Now we have to tokenize the text. We also lowercase it and eliminate non alphabetic tokens."
   ]
  },
  {
   "cell_type": "code",
   "execution_count": 7,
   "metadata": {},
   "outputs": [
    {
     "name": "stdout",
     "output_type": "stream",
     "text": [
      "['start', 'of', 'this', 'project', 'gutenberg', 'ebook', 'a', 'treatise', 'of', 'human']\n"
     ]
    }
   ],
   "source": [
    "Hume1TokensLower = nltk.word_tokenize(HumeString1.lower()) # This lowercases all words and then tokenizes \n",
    "Hume1TokensLower2 = [word for word in Hume1TokensLower if word[0].isalpha()] # This eliminates non words\n",
    "print(Hume1TokensLower2[:10])"
   ]
  },
  {
   "cell_type": "markdown",
   "metadata": {},
   "source": [
    "Now we get a distribution of words."
   ]
  },
  {
   "cell_type": "code",
   "execution_count": 8,
   "metadata": {},
   "outputs": [
    {
     "name": "stdout",
     "output_type": "stream",
     "text": [
      "  the    of   and    to    is     a  that    in    it    we \n",
      "13675 10241  8637  6804  4786  4623  4524  4335  3552  2856 \n"
     ]
    }
   ],
   "source": [
    "Hume1TokensLower2Dist = nltk.FreqDist(Hume1TokensLower2)\n",
    "Hume1TokensLower2Dist.tabulate(10)"
   ]
  },
  {
   "cell_type": "markdown",
   "metadata": {},
   "source": [
    "We can plot the distribution of the top 25 words"
   ]
  },
  {
   "cell_type": "code",
   "execution_count": 9,
   "metadata": {},
   "outputs": [
    {
     "data": {
      "image/png": "[encoded data removed]",
      "text/plain": [
       "<matplotlib.figure.Figure at 0x10cf83128>"
      ]
     },
     "metadata": {},
     "output_type": "display_data"
    }
   ],
   "source": [
    "import matplotlib\n",
    "%matplotlib inline\n",
    "Hume1TokensLower2Dist.plot(25, title=\"Top Frequency Word Tokens in Hume's Treatise\")"
   ]
  },
  {
   "cell_type": "markdown",
   "metadata": {},
   "source": [
    "Now we get a concordance the NLTK way."
   ]
  },
  {
   "cell_type": "code",
   "execution_count": 48,
   "metadata": {},
   "outputs": [
    {
     "name": "stdout",
     "output_type": "stream",
     "text": [
      "What word to concord?give\n",
      "Displaying 10 of 267 matches:\n",
      "he most momentous we are not able to give any certain decision disputes are mu\n",
      " so the only solid foundation we can give to this science itself must be laid \n",
      "r ignorance and perceive that we can give no reason for our most general and m\n",
      "ever appear in the contrary order to give a child an idea of scarlet or orange\n",
      " by any accident the faculties which give rise to any impressions are obstruct\n",
      "me ideas which perhaps in their turn give rise to other impressions and ideas \n",
      "ure and principles of the human mind give a particular account of ideas before\n",
      "mpossible it is sufficient if we can give any satisfactory account of them fro\n",
      "f this mutual complaisance i can not give a more evident instance than in the \n",
      "ly defect of our senses is that they give us disproportioned images of things \n"
     ]
    }
   ],
   "source": [
    "word2concord = input(\"What word to concord?\")\n",
    "Hume1Text = nltk.Text(Hume1TokensLower2)\n",
    "Hume1Text.concordance(word2concord, lines=10)"
   ]
  },
  {
   "cell_type": "code",
   "execution_count": 22,
   "metadata": {},
   "outputs": [
    {
     "name": "stdout",
     "output_type": "stream",
     "text": [
      "it relation pride pleasure matter objects idea passion belief love\n",
      "nature causes property reasoning power resemblance reason society\n",
      "ideas mind\n"
     ]
    }
   ],
   "source": [
    "Hume1Text.similar(word2concord)"
   ]
  },
  {
   "cell_type": "code",
   "execution_count": 45,
   "metadata": {},
   "outputs": [
    {
     "name": "stdout",
     "output_type": "stream",
     "text": [
      "human nature; continued existence; every thing; give rise; may\n",
      "observe; properly speaking; constant conjunction; difference betwixt;\n",
      "general rules; present impression; take place; external objects; every\n",
      "one; right line; shall find; first sight; double relation; like\n",
      "manner; great measure; infinite divisibility\n"
     ]
    }
   ],
   "source": [
    "Hume1Text.collocations(num=20, window_size=2)"
   ]
  },
  {
   "cell_type": "code",
   "execution_count": 23,
   "metadata": {},
   "outputs": [
    {
     "data": {
      "image/png": "[encoded data removed]",
      "text/plain": [
       "<matplotlib.figure.Figure at 0x10ed67ac8>"
      ]
     },
     "metadata": {},
     "output_type": "display_data"
    }
   ],
   "source": [
    "Hume1Text.dispersion_plot([\"true\",\"false\"])"
   ]
  },
  {
   "cell_type": "markdown",
   "metadata": {},
   "source": [
    "## Getting high frequency content words"
   ]
  },
  {
   "cell_type": "code",
   "execution_count": 39,
   "metadata": {},
   "outputs": [
    {
     "name": "stdout",
     "output_type": "stream",
     "text": [
      "['i', 'me', 'my', 'myself', 'we', 'our', 'ours', 'ourselves', 'you', 'your', 'yours', 'yourself', 'yourselves', 'he', 'him', 'his', 'himself', 'she', 'her', 'hers', 'herself', 'it', 'its', 'itself', 'they', 'them', 'their', 'theirs', 'themselves', 'what', 'which', 'who', 'whom', 'this', 'that', 'these', 'those', 'am', 'is', 'are', 'was', 'were', 'be', 'been', 'being', 'have', 'has', 'had', 'having', 'do', 'does', 'did', 'doing', 'a', 'an', 'the', 'and', 'but', 'if', 'or', 'because', 'as', 'until', 'while', 'of', 'at', 'by', 'for', 'with', 'about', 'against', 'between', 'into', 'through', 'during', 'before', 'after', 'above', 'below', 'to', 'from', 'up', 'down', 'in', 'out', 'on', 'off', 'over', 'under', 'again', 'further', 'then', 'once', 'here', 'there', 'when', 'where', 'why', 'how', 'all', 'any', 'both', 'each', 'few', 'more', 'most', 'other', 'some', 'such', 'no', 'nor', 'not', 'only', 'own', 'same', 'so', 'than', 'too', 'very', 's', 't', 'can', 'will', 'just', 'don', 'should', 'now', 'd', 'll', 'm', 'o', 're', 've', 'y', 'ain', 'aren', 'couldn', 'didn', 'doesn', 'hadn', 'hasn', 'haven', 'isn', 'ma', 'mightn', 'mustn', 'needn', 'shan', 'shouldn', 'wasn', 'weren', 'won', 'wouldn', 'may', 'one', 'us', 'must', 'upon', 'every', 'without', 'though', 'therefore', 'first', 'two', 'would']\n"
     ]
    }
   ],
   "source": [
    "stopwords = nltk.corpus.stopwords.words(\"english\")\n",
    "wordsToAppend = [\"may\",\"one\",\"us\",\"must\",\"upon\",\"every\",\"without\",\"though\",\"therefore\",\"first\",\"two\",\"would\"]\n",
    "stopwords2 = stopwords + wordsToAppend\n",
    "print(stopwords2)\n",
    "# I need to find a way to append a bunch of words"
   ]
  },
  {
   "cell_type": "code",
   "execution_count": 40,
   "metadata": {},
   "outputs": [
    {
     "name": "stdout",
     "output_type": "stream",
     "text": [
      "    idea   object  objects    ideas     mind relation  present passions   reason   nature \n",
      "     822      692      664      633      599      464      449      432      431      415 \n"
     ]
    }
   ],
   "source": [
    "Hume1ContentWords = [word for word in Hume1TokensLower2 if word not in stopwords2]\n",
    "Hume1ContentWordsDist = nltk.FreqDist(Hume1ContentWords)\n",
    "Hume1ContentWordsDist.tabulate(10)"
   ]
  },
  {
   "cell_type": "code",
   "execution_count": 41,
   "metadata": {},
   "outputs": [
    {
     "data": {
      "image/png": "[encoded data removed]",
      "text/plain": [
       "<matplotlib.figure.Figure at 0x1143d97b8>"
      ]
     },
     "metadata": {},
     "output_type": "display_data"
    }
   ],
   "source": [
    "Hume1ContentWordsDist.plot(25, title=\"Top Frequency Content Words in Hume's Treatise\")"
   ]
  },
  {
   "cell_type": "markdown",
   "metadata": {},
   "source": [
    "## Combining fequency lists"
   ]
  },
  {
   "cell_type": "markdown",
   "metadata": {
    "collapsed": true
   },
   "source": [
    "---\n",
    "\n",
    "[CC BY-SA](https://creativecommons.org/licenses/by-sa/4.0/) From [The Art of Literary Text Analysis](ArtOfLiteraryTextAnalysis.ipynb) by [Stéfan Sinclair](http://stefansinclair.name) &amp; [Geoffrey Rockwell](http://geoffreyrockwell.com)<br /> "
   ]
  },
  {
   "cell_type": "code",
   "execution_count": null,
   "metadata": {
    "collapsed": true
   },
   "outputs": [],
   "source": []
  }
 ],
 "metadata": {
  "kernelspec": {
   "display_name": "Python 3",
   "language": "python",
   "name": "python3"
  },
  "language_info": {
   "codemirror_mode": {
    "name": "ipython",
    "version": 3
   },
   "file_extension": ".py",
   "mimetype": "text/x-python",
   "name": "python",
   "nbconvert_exporter": "python",
   "pygments_lexer": "ipython3",
   "version": "3.6.3"
  }
 },
 "nbformat": 4,
 "nbformat_minor": 1
}
