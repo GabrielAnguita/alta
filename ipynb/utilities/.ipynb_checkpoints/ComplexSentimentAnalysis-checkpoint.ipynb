{
 "cells": [
  {
   "cell_type": "markdown",
   "metadata": {},
   "source": [
    "# Complex Sentiment Analysis\n",
    "\n",
    "This notebook shows how to analyze a collection of passages like Tweets for sentiment.\n",
    "\n",
    "This is based on Neal Caron's [An introduction to text analysis with Python, Part 3](http://nealcaren.web.unc.edu/an-introduction-to-text-analysis-with-python-part-3/).\n",
    "\n",
    "This ultility example will look at:\n",
    "- [Setting up our Data](#Setting-up-our-data)\n",
    "- [Tokenizing Tweets](#Tokenizing-the-tweets)\n",
    "- [Analyzing Tweets](#Analyzing-tweets)\n",
    "- [Gathering Tweets](#Gathering-positive-tweets)\n",
    "- [Testing Tweets (for positive and negative words)](#Testing-a-tweet)\n",
    "- [Plotting words](#Gathering-and-plotting-all-positive-and-negative-words)"
   ]
  },
  {
   "cell_type": "markdown",
   "metadata": {},
   "source": [
    "### Setting up our data\n",
    "\n",
    "Here we will get the data to test and our positive and negative dictionaries."
   ]
  },
  {
   "cell_type": "markdown",
   "metadata": {},
   "source": [
    "** Getting by URL **\n",
    "\n",
    "Here you can see how to get the data by URL. This shows just how to get the *negative.txt* file. The other files you need to get are *positive.txt* and *obama_tweets.txt*."
   ]
  },
  {
   "cell_type": "code",
   "execution_count": 1,
   "metadata": {},
   "outputs": [
    {
     "name": "stdout",
     "output_type": "stream",
     "text": [
      "b'abandoned\\nabandonment\\naberration\\naberration\\nabhorred\\nabhorrence\\nabhorrent\\nabhorrently\\nabhors\\nabhors\\n'\n"
     ]
    }
   ],
   "source": [
    "import urllib.request\n",
    "path = 'http://www.unc.edu/~ncaren/haphazard/negative.txt'\n",
    "with urllib.request.urlopen(path) as response:\n",
    "    negData = response.read()\n",
    "print(negData[:100])"
   ]
  },
  {
   "cell_type": "markdown",
   "metadata": {},
   "source": [
    "** Opening data files **\n",
    "\n",
    "Instead of getting the data from the web in the script, I suggest you just download it and save it in the folder your script is in. Here are the links\n",
    "\n",
    "- Positive data http://www.unc.edu/~ncaren/haphazard/positive.txt\n",
    "- Negative data http://www.unc.edu/~ncaren/haphazard/negative.txt\n",
    "- Obama tweets http://www.unc.edu/~ncaren/haphazard/obama_tweets.txt\n",
    "\n",
    "Assuming you have saved in the folder with your script. Here is how to see what is in the folder."
   ]
  },
  {
   "cell_type": "code",
   "execution_count": 2,
   "metadata": {},
   "outputs": [
    {
     "name": "stdout",
     "output_type": "stream",
     "text": [
      "Collocates-Copy1.ipynb          SimpleSentimentAnalysis.ipynb\r\n",
      "Collocates.ipynb                Untitled.ipynb\r\n",
      "ComplexSentimentAnalysis.ipynb  negative.txt\r\n",
      "Handling Texts.ipynb            obama_tweets.txt\r\n",
      "Hume Enquiry.txt                positive.txt\r\n",
      "Hume Treatise.txt\r\n"
     ]
    }
   ],
   "source": [
    "%ls"
   ]
  },
  {
   "cell_type": "markdown",
   "metadata": {},
   "source": [
    "Now we load the **negative** words."
   ]
  },
  {
   "cell_type": "code",
   "execution_count": 3,
   "metadata": {},
   "outputs": [
    {
     "name": "stdout",
     "output_type": "stream",
     "text": [
      "['wretchedly', 'wretchedness', 'wrong', 'wrongful', 'wrought', 'wrought', 'yawn', 'zealot', 'zealous', 'zealously']\n"
     ]
    }
   ],
   "source": [
    "with open(\"negative.txt\", \"r\") as f:\n",
    "    negText = f.read()\n",
    "negTokens = negText.split(\"\\n\") # This splits the text file into tokens on the new line character\n",
    "negTokens[-1:] = [] # This strips out the final empty item\n",
    "print(negTokens[-10:])"
   ]
  },
  {
   "cell_type": "markdown",
   "metadata": {},
   "source": [
    "Here we load the **positive** words."
   ]
  },
  {
   "cell_type": "code",
   "execution_count": 4,
   "metadata": {},
   "outputs": [
    {
     "name": "stdout",
     "output_type": "stream",
     "text": [
      "['worthwhile', 'worthy', 'wow', 'wry', 'yearning', 'yearningly', 'youthful', 'zeal', 'zenith', 'zest']\n"
     ]
    }
   ],
   "source": [
    "with open(\"positive.txt\", \"r\") as f:\n",
    "    posText = f.read()\n",
    "posTokens = posText.split(\"\\n\") # This splits the text file into tokens on the new line character\n",
    "posTokens[-1:] = [] # This strips out the final empty item\n",
    "print(posTokens[-10:])"
   ]
  },
  {
   "cell_type": "markdown",
   "metadata": {},
   "source": [
    "Here we get the **tweets**."
   ]
  },
  {
   "cell_type": "code",
   "execution_count": 5,
   "metadata": {},
   "outputs": [
    {
     "name": "stdout",
     "output_type": "stream",
     "text": [
      "['Obama has called the GOP budget social Darwinism. Nice try, but they believe in social creationism.', 'In his teen years, Obama has been known to use marijuana and cocaine.']\n"
     ]
    }
   ],
   "source": [
    "with open(\"obama_tweets.txt\", \"r\") as f:\n",
    "    tweetsText = f.read()\n",
    "tweetsTokens = tweetsText.split(\"\\n\") # This splits the text file into tokens on the new line character\n",
    "tweetsTokens[-1:] = [] # This strips out the final empty item\n",
    "print(tweetsTokens[:2])"
   ]
  },
  {
   "cell_type": "markdown",
   "metadata": {},
   "source": [
    "### Tokenizing the tweets\n",
    "\n",
    "Now we will create two functions. The first for tokenizing a tweet, the second for calculating positive/negative words."
   ]
  },
  {
   "cell_type": "code",
   "execution_count": 6,
   "metadata": {
    "collapsed": true
   },
   "outputs": [],
   "source": [
    "import re\n",
    "def tokenizer(theText):\n",
    "    theTokens = re.findall(r'\\b\\w[\\w-]*\\b', theText.lower())\n",
    "    return theTokens\n",
    "\n",
    "def calculator(theTweet):\n",
    "    # Count positive words\n",
    "    numPosWords = 0\n",
    "    theTweetTokens = tokenizer(theTweet)\n",
    "    for word in theTweetTokens:\n",
    "        if word in posTokens:\n",
    "            numPosWords += 1\n",
    "            \n",
    "    # Count negative words\n",
    "    numNegWords = 0\n",
    "    for word in theTweetTokens:\n",
    "        if word in negTokens:\n",
    "            numNegWords += 1\n",
    "    \n",
    "    sum = (numPosWords - numNegWords)\n",
    "    return sum\n",
    "\n",
    "# Here is a line for testing this\n",
    "# print(calculator('Obama has called wrong wrong the GOP budget social Darwinism. Nice try, but they believe in social creationism.'))\n"
   ]
  },
  {
   "cell_type": "markdown",
   "metadata": {},
   "source": [
    "### Analyzing tweets\n",
    "\n",
    "Now we will use the calculator to calculate how many positive and negative tweets.\n",
    "\n",
    "*Note:* that you can set a **threshold** for the number of words for a Tweet to be considered positive or negative."
   ]
  },
  {
   "cell_type": "code",
   "execution_count": 7,
   "metadata": {},
   "outputs": [
    {
     "name": "stdout",
     "output_type": "stream",
     "text": [
      "Total: 1380\n",
      "Positive: 81\n",
      "Neutral: 1047\n",
      "Negative: 252\n"
     ]
    }
   ],
   "source": [
    "# Here we set up the thresholds\n",
    "posi = 1 # This means there have to be more than 1 positive word\n",
    "nega = 0 # This means there has to be more than 1 negative words\n",
    "\n",
    "# Here we prime our variables\n",
    "numTweets = 0\n",
    "numPosTweets = 0\n",
    "numNegTweets = 0\n",
    "numNeutTweets = 0\n",
    "\n",
    "# This loop goes through all the Tweets and calculates if sums the number of positive or negative ones.\n",
    "for tweet in tweetsTokens:\n",
    "    calc = calculator(tweet)\n",
    "    if calc > posi:\n",
    "        numPosTweets += 1\n",
    "        numTweets += 1\n",
    "    elif calc < nega:\n",
    "        numNegTweets += 1\n",
    "        numTweets += 1\n",
    "    else:\n",
    "        numNeutTweets += 1\n",
    "        numTweets += 1\n",
    "\n",
    "# This prints out the results        \n",
    "print(\"Total: \" + str(numTweets) + \"\\n\" + \"Positive: \" + str(numPosTweets) + \"\\n\" + \"Neutral: \" + str(numNeutTweets) + \"\\n\" + \"Negative: \" +str(numNegTweets))"
   ]
  },
  {
   "cell_type": "code",
   "execution_count": null,
   "metadata": {
    "collapsed": true
   },
   "outputs": [],
   "source": []
  },
  {
   "cell_type": "markdown",
   "metadata": {},
   "source": [
    "### Gathering positive tweets\n",
    "\n",
    "This will gather all examples of positive tweets."
   ]
  },
  {
   "cell_type": "code",
   "execution_count": 8,
   "metadata": {},
   "outputs": [
    {
     "name": "stdout",
     "output_type": "stream",
     "text": [
      "[\"#WhatsRomneyHiding? Obama's dignity and sense of humor? #p2 #tcot\", \"RealClearPolitics - Obama's Organizational Advantage on Full ...: As a small but electorally significant state t... http://t.co/3Ax22aBB\", \"RT @wilycyotee Pres. Obama's ongoing support of women is another reason I am so proud he is my President!  @edshow #Obama2012\", 'If Obama win 2012 Election wait til 2016 he will have full white hair! just like Bill clinton!']\n"
     ]
    }
   ],
   "source": [
    "# Here we set up the threshold.\n",
    "posi = 1 # This means there have to be more than 1 positive word\n",
    "numberWanted = 4 # Here you decide how many tweets you want\n",
    "\n",
    "# Here we prime our variables\n",
    "numTweets = 0\n",
    "numPosTweets = 0\n",
    "posiTweetList = []\n",
    "\n",
    "# This loop goes through all the Tweets and calculates if sums the number of positive or negative ones.\n",
    "for tweet in tweetsTokens:\n",
    "    calc = calculator(tweet)\n",
    "    if calc > posi and numPosTweets < numberWanted:\n",
    "        numPosTweets += 1\n",
    "        posiTweetList.append(tweet)\n",
    "\n",
    "print(posiTweetList)"
   ]
  },
  {
   "cell_type": "markdown",
   "metadata": {},
   "source": [
    "### Gathering negative tweets\n",
    "\n",
    "This will gather examples of negative tweets."
   ]
  },
  {
   "cell_type": "code",
   "execution_count": 9,
   "metadata": {},
   "outputs": [
    {
     "name": "stdout",
     "output_type": "stream",
     "text": [
      "['President Obama &lt; Lindsay Lohan RUMORS beginning cross shape lights on ST &lt; 1987 Analyst64 DC bicycle courier &lt; Video changes to scramble.', '@edshow the direspect of President #Obama is based on racism. They do not want a Black PRESIDENT. #edshow', '@JoeSixpackSays Our Troops NEED TO COME HOME !!!! BRING OUR TROOPS HOME NOW OBAMA YOU BASTARD OOOORAH SEMPER FI', 'Attorney Mario Apuzzo Files Ballot Access Challenge Against Obama Today in New Jersey http://t.co/06rD6lCL']\n"
     ]
    }
   ],
   "source": [
    "# Here we set up the threshold.\n",
    "nega = -1 # This means there have to be more than 1 positive word\n",
    "numberWanted = 4 # Here you decide how many tweets you want\n",
    "\n",
    "# Here we prime our variables\n",
    "numTweets = 0\n",
    "numNegTweets = 0\n",
    "negaTweetList = []\n",
    "\n",
    "# This loop goes through all the Tweets and calculates if sums the number of positive or negative ones.\n",
    "for tweet in tweetsTokens:\n",
    "    calc = calculator(tweet)\n",
    "    if calc < nega and numNegTweets < numberWanted:\n",
    "        numNegTweets += 1\n",
    "        negaTweetList.append(tweet)\n",
    "\n",
    "print(negaTweetList)"
   ]
  },
  {
   "cell_type": "markdown",
   "metadata": {},
   "source": [
    "### Testing a tweet\n",
    "\n",
    "Here you can take a tweet and test it to see how many positive or negative words it has."
   ]
  },
  {
   "cell_type": "code",
   "execution_count": 10,
   "metadata": {},
   "outputs": [
    {
     "name": "stdout",
     "output_type": "stream",
     "text": [
      "What is the tweet to calculate? the rest is ok bad bad bad\n",
      "-3\n"
     ]
    }
   ],
   "source": [
    "tweetToCalc = input(\"What is the tweet to calculate? \")\n",
    "print(calculator(tweetToCalc))"
   ]
  },
  {
   "cell_type": "markdown",
   "metadata": {},
   "source": [
    "### Gathering and plotting positive and negative words\n",
    "\n",
    "This will gather the words that are positive in the tweets and tabulate them."
   ]
  },
  {
   "cell_type": "code",
   "execution_count": 11,
   "metadata": {},
   "outputs": [
    {
     "name": "stdout",
     "output_type": "stream",
     "text": [
      "What tweet do you want to process? \n",
      "Positive words: []\n",
      "Negative words: []\n"
     ]
    }
   ],
   "source": [
    "import re\n",
    "posWordsList = []\n",
    "negWordsList = []\n",
    "\n",
    "def tokenizer(theText):\n",
    "    theTokens = re.findall(r'\\b\\w[\\w-]*\\b', theText.lower())\n",
    "    return theTokens\n",
    "\n",
    "def wordsCalculator(theTweet):\n",
    "    # Count positive words\n",
    "    numPosWords = 0\n",
    "    theTweetTokens = tokenizer(theTweet)\n",
    "    for word in theTweetTokens:\n",
    "        if word in posTokens:\n",
    "            numPosWords += 1\n",
    "            posWordsList.append(word)\n",
    "            \n",
    "    # Count negative words\n",
    "    numNegWords = 0\n",
    "    for word in theTweetTokens:\n",
    "        if word in negTokens:\n",
    "            numNegWords += 1\n",
    "            negWordsList.append(word)\n",
    "\n",
    "tweet2Process = input(\"What tweet do you want to process? \")\n",
    "wordsCalculator(tweet2Process)\n",
    "print(\"Positive words: \" + str(posWordsList[:10]))\n",
    "print(\"Negative words: \" + str(negWordsList[:10]))"
   ]
  },
  {
   "cell_type": "markdown",
   "metadata": {},
   "source": [
    "## Gathering and plotting all positive and negative words"
   ]
  },
  {
   "cell_type": "code",
   "execution_count": 12,
   "metadata": {},
   "outputs": [
    {
     "name": "stdout",
     "output_type": "stream",
     "text": [
      "Positive words: 756\n",
      "Negative words: 552\n"
     ]
    }
   ],
   "source": [
    "import re\n",
    "\n",
    "# Here we set up the thresholds\n",
    "posi = 1 # This means there have to be more than 1 positive word\n",
    "nega = 0 # This means there has to be more than 1 negative words\n",
    "\n",
    "# Here we prime our variables\n",
    "posWordsList = []\n",
    "negWordsList = []\n",
    "numTweets = 0\n",
    "numPosTweets = 0\n",
    "numNegTweets = 0\n",
    "numNeutTweets = 0\n",
    "\n",
    "def wordsGathering(theTweet):\n",
    "    # Count positive words\n",
    "    numPosWords = 0\n",
    "    theTweetTokens = tokenizer(theTweet)\n",
    "    for word in theTweetTokens:\n",
    "        if word in posTokens:\n",
    "            numPosWords += 1\n",
    "            posWordsList.append(word)\n",
    "            \n",
    "    # Count negative words\n",
    "    numNegWords = 0\n",
    "    for word in theTweetTokens:\n",
    "        if word in negTokens:\n",
    "            numNegWords += 1\n",
    "            negWordsList.append(word)       \n",
    "    \n",
    "    sum = (numPosWords - numNegWords)\n",
    "    return sum\n",
    "\n",
    "# This loop goes through all the Tweets and calculates if sums the number of positive or negative ones.\n",
    "for tweet in tweetsTokens:\n",
    "    calc = wordsGathering(tweet)\n",
    "    if calc > posi:\n",
    "        numPosTweets += 1\n",
    "        numTweets += 1\n",
    "    elif calc < nega:\n",
    "        numNegTweets += 1\n",
    "        numTweets += 1\n",
    "    else:\n",
    "        numNeutTweets += 1\n",
    "        numTweets += 1\n",
    "\n",
    "print(\"Positive words: \" + str(len(posWordsList)))\n",
    "print(\"Negative words: \" + str(len(negWordsList)))"
   ]
  },
  {
   "cell_type": "markdown",
   "metadata": {},
   "source": [
    "#### Positive words"
   ]
  },
  {
   "cell_type": "code",
   "execution_count": 13,
   "metadata": {},
   "outputs": [
    {
     "name": "stdout",
     "output_type": "stream",
     "text": [
      "     will      just   supreme     white important      good     right      nice  interest   support \n",
      "       66        44        32        31        26        18        17        17        16        16 \n"
     ]
    },
    {
     "data": {
      "image/png": "[encoded data removed]",
      "text/plain": [
       "<matplotlib.figure.Figure at 0x1067809b0>"
      ]
     },
     "metadata": {},
     "output_type": "display_data"
    }
   ],
   "source": [
    "import nltk, matplotlib\n",
    "\n",
    "posDist = nltk.FreqDist(posWordsList)\n",
    "posDist.tabulate(10)\n",
    "\n",
    "%matplotlib inline\n",
    "posDist.plot(25, title=\"Top Positive Words\")"
   ]
  },
  {
   "cell_type": "markdown",
   "metadata": {},
   "source": [
    "#### Negative words"
   ]
  },
  {
   "cell_type": "code",
   "execution_count": 14,
   "metadata": {},
   "outputs": [
    {
     "name": "stdout",
     "output_type": "stream",
     "text": [
      "   need   bully against  trying     war    dumb    down  rumors     bad    less \n",
      "     26      19      14      13      11      11      11      10       9       8 \n"
     ]
    },
    {
     "data": {
      "image/png": "[encoded data removed]",
      "text/plain": [
       "<matplotlib.figure.Figure at 0x1115e2828>"
      ]
     },
     "metadata": {},
     "output_type": "display_data"
    }
   ],
   "source": [
    "import nltk, matplotlib\n",
    "\n",
    "negDist = nltk.FreqDist(negWordsList)\n",
    "negDist.tabulate(10)\n",
    "\n",
    "%matplotlib inline\n",
    "negDist.plot(25, title=\"Top Negative Words\")"
   ]
  },
  {
   "cell_type": "markdown",
   "metadata": {},
   "source": [
    "## Next Steps"
   ]
  },
  {
   "cell_type": "markdown",
   "metadata": {},
   "source": [
    "Let's explore another utility example - identifying [Collocates](Collocates.ipynb) for a target word."
   ]
  },
  {
   "cell_type": "markdown",
   "metadata": {},
   "source": [
    "---\n",
    "[CC BY-SA](https://creativecommons.org/licenses/by-sa/4.0/) From [The Art of Literary Text Analysis](../ArtOfLiteraryTextAnalysis.ipynb) by [Stéfan Sinclair](http://stefansinclair.name) &amp; [Geoffrey Rockwell](http://geoffreyrockwell.com)<br >Created August 8, 2014  (Jupyter 4.2.1)"
   ]
  }
 ],
 "metadata": {
  "kernelspec": {
   "display_name": "Python 3",
   "language": "python",
   "name": "python3"
  },
  "language_info": {
   "codemirror_mode": {
    "name": "ipython",
    "version": 3
   },
   "file_extension": ".py",
   "mimetype": "text/x-python",
   "name": "python",
   "nbconvert_exporter": "python",
   "pygments_lexer": "ipython3",
   "version": "3.6.3"
  }
 },
 "nbformat": 4,
 "nbformat_minor": 1
}
