{
 "cells": [
  {
   "cell_type": "markdown",
   "metadata": {},
   "source": [
    "# Glossary"
   ]
  },
  {
   "cell_type": "markdown",
   "metadata": {},
   "source": [
    "<h4 id=\"argument\">Argument </h4>\n",
    "A value which is passed to a function or method when 'called'. Arguments are assigned to named local variables in the function body. Arguments can be further classified as either keyword or positional. In the simplest terms the difference between these types is that keyword arguments are named (proceeded by an identifier) and positional arguments are unnamed (in list form). [Further information.](https://docs.python.org/3/glossary.html)\n",
    "\n",
    "---"
   ]
  },
  {
   "cell_type": "markdown",
   "metadata": {},
   "source": [
    "#### Array <a name=\"array\"></a>\n",
    "A data structure consisting of an ordered collection of items of a single type i.e. an indexed list.\n",
    "\n",
    "---"
   ]
  },
  {
   "cell_type": "markdown",
   "metadata": {},
   "source": [
    "#### Bag of words <a name=\"bagofwords\"></a>\n",
    "A [model](https://en.wikipedia.org/wiki/Bag-of-words_model) where text is represented as a multiset (bag) of its words. This simplification disregards features such as word order and grammar and instead focuses on term frequency.\n",
    "\n",
    "---"
   ]
  },
  {
   "cell_type": "markdown",
   "metadata": {},
   "source": [
    "#### Cartesian Graph <a name=\"cartesiangraph\"></a>\n",
    "Also known as a [Cartesian Coordinate System](https://en.wikipedia.org/wiki/Cartesian_coordinate_system) which plots numbers on a plane using an x and y axis.\n",
    "\n",
    "---"
   ]
  },
  {
   "cell_type": "markdown",
   "metadata": {},
   "source": [
    "#### Cell <a name=\"cell\"></a>\n",
    "An input strucutre in a Notebook which runs either [Markdown](https://github.com/adam-p/markdown-here/wiki/Markdown-Cheatsheet) or Python code.\n",
    "\n",
    "---"
   ]
  },
  {
   "cell_type": "markdown",
   "metadata": {},
   "source": [
    "#### Classifier <a name=\"Classifier\"></a>\n",
    "A machine-learning algorithm that determines the class of an input element based on a set of features. \n",
    "\n",
    "---"
   ]
  },
  {
   "cell_type": "markdown",
   "metadata": {},
   "source": [
    "#### Concatenation <a name=\"Concatenation\"></a>\n",
    "The process of combining strings i.e *\"This string is\" + \"Concatenating\"*\n",
    "\n",
    "---"
   ]
  },
  {
   "cell_type": "markdown",
   "metadata": {},
   "source": [
    "#### Concordance <a name=\"Concordance\"></a>\n",
    "A list of all words within a text and their frequency of occurrence.\n",
    "\n",
    "---"
   ]
  },
  {
   "cell_type": "markdown",
   "metadata": {},
   "source": [
    "#### Conditional Block <a name=\"conditionalblock\"></a>\n",
    "Where the program has to make a decision based on a series of options using [conditional statements](http://www.openbookproject.net/books/bpp4awd/ch04.html) such as *if, else* and *elif*\n",
    "\n",
    "---"
   ]
  },
  {
   "cell_type": "markdown",
   "metadata": {},
   "source": [
    "#### Debug <a name=\"Debug\"></a>\n",
    "The process of identifying and removing errors from a program.\n",
    "\n",
    "---"
   ]
  },
  {
   "cell_type": "markdown",
   "metadata": {},
   "source": [
    "#### Delimiter <a name=\"Delimiter\"></a>\n",
    "A character (most typically a comma) used to specify boundaries between words or regions in plain text.\n",
    "\n",
    "---"
   ]
  },
  {
   "cell_type": "markdown",
   "metadata": {},
   "source": [
    "#### Directory Tree <a name=\"directorytree\"></a>\n",
    "A tree like structure which represents the organization and hierachy of files within a directory. Terms such as *parent* and *child* are used to describe relationships between files and folders within this system.\n",
    "\n",
    "---"
   ]
  },
  {
   "cell_type": "markdown",
   "metadata": {},
   "source": [
    "#### Dispersion Plot <a name=\"dispersionplot\"></a>\n",
    "Also known as a [Scatter plot](https://en.wikipedia.org/wiki/Scatter_plot). A graph which uses cartesian coordinates to display values for multiple variables of a set of data. Particularly useful for displaying positional information for words within a text.\n",
    "\n",
    "---"
   ]
  },
  {
   "cell_type": "markdown",
   "metadata": {},
   "source": [
    "#### Fork <a name=\"Fork\"></a>\n",
    "A cloned copy of a project which is set-up on a independent branch seperate to the original. Often used as a development tool in opensource software - where anyone can create a fork of the program and work on it as a distinct piece of software. [Github](https://github.com/) is an example of a tool which facilitates this sharing and development process.\n",
    "\n",
    "---"
   ]
  },
  {
   "cell_type": "markdown",
   "metadata": {},
   "source": [
    "#### Function <a name=\"Function\"></a>\n",
    "Put simply, functions provide functionality to a program. They are blocks of organized code which begin with the keyword *def* proceeded by the name of the function you wish to define in parentheses. The code block begins with a colon and must be indented. [Further Information.](https://www.tutorialspoint.com/python/python_functions.htm)\n",
    "- Function Chaining - Also known as method chaining. It is a set of rules which govern the process of calling multiple methods (functions) in a single statement.\n",
    "- Recursive Function - A function which calls itself one or many times in an loop until it fufils the condition of its [recursion.](https://www.python-course.eu/recursive_functions.php)\n",
    "- Calling a Function - Telling the program to execute a function.\n",
    "---"
   ]
  },
  {
   "cell_type": "markdown",
   "metadata": {},
   "source": [
    "#### Indentation <a name=\"Indentation\"></a>\n",
    "Empty spaces used as a formatting tool to designate blocks of code in programming. In Python, indentation is used to indicate a block of code, typically four spaces are used - each line of code in the block must be indented by the same amount of spaces otherwise an error may occur.\n",
    "\n",
    "---"
   ]
  },
  {
   "cell_type": "markdown",
   "metadata": {},
   "source": [
    "#### Iteration <a name=\"Iteration\"></a>\n",
    "The repetition of a procedure in the form of a loop to obtain successively closer approximations to the solution of a problem.\n",
    "\n",
    "---"
   ]
  },
  {
   "cell_type": "markdown",
   "metadata": {},
   "source": [
    "#### Kernel <a name=\"kernel\"></a>\n",
    "The core computer program of the operating system which can control all system processes. The iPython kernel runs the code in the background for Jupyter notebooks.\n",
    "\n",
    "---"
   ]
  },
  {
   "cell_type": "markdown",
   "metadata": {},
   "source": [
    "#### Lemmatization <a name=\"Lemmatization\"></a>\n",
    "A lemma is the canonical form of a word. Lematization is the process of grouping together inflected forms of a word to be analysed as a single item i.e. determining the orginal lemma for the words.\n",
    "\n",
    "---"
   ]
  },
  {
   "cell_type": "markdown",
   "metadata": {},
   "source": [
    "#### List Comprehension<a name=\"listcomprehension\"></a>\n",
    "A method for defining and constructing lists. Particularly useful for creating a new list from an exsisting list using expressions with a *for / in* statement within a set of brackets.  [Further Information.](https://www.python-course.eu/list_comprehension.php)\n",
    "\n",
    "---"
   ]
  },
  {
   "cell_type": "markdown",
   "metadata": {},
   "source": [
    "#### Nest<a name=\"Nest\"></a>\n",
    "Placing objects or elements in a hierarchical arrangement within a set (an ordered collection of immutable objects).\n",
    "\n",
    "---"
   ]
  },
  {
   "cell_type": "markdown",
   "metadata": {},
   "source": [
    "#### N-gram <a name=\"Ngram\"></a>\n",
    "A unit (letter, words etc) of variable size (n = number of units) from a given sequence of text in a corpus used in language modelling. [Further information](https://en.wikipedia.org/wiki/N-gram)\n",
    "\n",
    "---"
   ]
  },
  {
   "cell_type": "markdown",
   "metadata": {},
   "source": [
    "#### Normalization <a name=\"Normalization\"></a>\n",
    "A process of transforming text into a single canonical form, thereby faciliating data consistentency for further processing. Examples include removing non-alphanumeric characters or changing to lower case.\n",
    "\n",
    "---"
   ]
  },
  {
   "cell_type": "markdown",
   "metadata": {},
   "source": [
    "#### Object <a name=\"Object\"></a>\n",
    "Data which has attributes or values AND a defined behaviour.\n",
    "- Response Object - An object which returns a response made through a HTTP request when collecting data from a website or URL.\n",
    "\n",
    "---"
   ]
  },
  {
   "cell_type": "markdown",
   "metadata": {},
   "source": [
    "#### Operator <a name=\"Operator\"></a>\n",
    "Symbols which perform arithmetic or logical computation. Some basic types of operators used in Python are arithmetic (addition +, modulus % etc), comparison (greater than >, not equal to !=, etc) or logical (*and, or, not*). [Further Information](https://www.programiz.com/python-programming/operators)\n",
    "\n",
    "---"
   ]
  },
  {
   "cell_type": "markdown",
   "metadata": {},
   "source": [
    "#### Parse <a name=\"Parse\"></a>\n",
    "Parsing or Syntactic Analysis is a process whereby sentences or strings of words are analysed by a computer into their constituents, often this is represented in a [parse tree](https://en.wikipedia.org/wiki/Parse_tree) which illustrates this syntactic structure.\n",
    "\n",
    "---"
   ]
  },
  {
   "cell_type": "markdown",
   "metadata": {},
   "source": [
    "#### Plain Texts <a name=\"plaintexts\"></a>\n",
    "Text which includes only data related to the readable material. That is, without data related to grapahical presentation, formatting or other objects such as images. Encoded using Unicode standards, typically in a text editor such as Textedit on Mac or Wordpad on PC. Plain texts are particularly useful for archival storage as they are not confined to proprietary software and can be opened and edited on many systems, thereby ensuring a more universal accessibility and preservation. \n",
    "\n",
    "---"
   ]
  },
  {
   "cell_type": "markdown",
   "metadata": {},
   "source": [
    "#### Regular Expressions <a name=\"regularexpressions\"></a>\n",
    "The sequence of characters which define a search pattern. These patterns are useful for performing string operations such as *find* or *find and replace*\n",
    "\n",
    "---"
   ]
  },
  {
   "cell_type": "markdown",
   "metadata": {},
   "source": [
    "#### Regularize <a name=\"Regularize\"></a>\n",
    "The replacement of irregular forms in syntax with regular forms.\n",
    "\n",
    "---"
   ]
  },
  {
   "cell_type": "markdown",
   "metadata": {},
   "source": [
    "#### Repository <a name=\"Repository\"></a>\n",
    "A central location where where data is stored and managed. More specifically, in revision control systems a repository stores metadata for sets of files or directory structure.\n",
    "\n",
    "---"
   ]
  },
  {
   "cell_type": "markdown",
   "metadata": {},
   "source": [
    "#### Sequence <a name=\"Sequence\"></a>\n",
    "An ordered set of Lists, Tuples or Strings.\n",
    "\n",
    "---"
   ]
  },
  {
   "cell_type": "markdown",
   "metadata": {},
   "source": [
    "#### Sparse Matrix <a name=\"sparsematrix\"></a>\n",
    "Also known as a [sparse array.](https://en.wikipedia.org/wiki/Sparse_matrix) It is a matrix (an array of data arranged in a rectangular structure of columns and rows) in which most of the elements are zero. If most of the elements were populated by values other than zero than the matrix could be considered dense.\n",
    "\n",
    "---"
   ]
  },
  {
   "cell_type": "markdown",
   "metadata": {},
   "source": [
    "#### Stemming <a name=\"Stemming\"></a>\n",
    "The process of reducing a word to it's base form or word stem e.g. added/adding would reduce to add.\n",
    "\n",
    "---"
   ]
  },
  {
   "cell_type": "markdown",
   "metadata": {},
   "source": [
    "#### Stop Words <a name=\"stopwords\"></a>\n",
    "A list of words which are programmed to be ignored or filtered in analysis and search queries. Lists of stop-words often contain high frequency function words such as *the, of, and* etc\n",
    "\n",
    "---"
   ]
  },
  {
   "cell_type": "markdown",
   "metadata": {},
   "source": [
    "#### String <a name=\"String\"></a>\n",
    "A string is a container for data of letters, numbers or symbols.\n",
    "- Zero padded strings - To pad a string (usually an integer) with leading zeros to make up a specified length.\n",
    "\n",
    "---"
   ]
  },
  {
   "cell_type": "markdown",
   "metadata": {},
   "source": [
    "#### Synset <a name=\"Synset\"></a>\n",
    "A set of synonyms. \n",
    "\n",
    "---"
   ]
  },
  {
   "cell_type": "markdown",
   "metadata": {},
   "source": [
    "#### Training Set <a name=\"trainingset\"></a>\n",
    "A data set used to train a model in machine learning. Specific examples are chosen to fit the parameters of the model for training and the subsequent results are compared with a testing dataset.\n",
    "\n",
    "---"
   ]
  },
  {
   "cell_type": "markdown",
   "metadata": {},
   "source": [
    "#### Tuple <a name=\"Tuple\"></a>\n",
    "A sequence of immutable (fixed) objects. Tuples are created by seperating values using commas within a set of parentheses e.g. (1, 2, 3, 4, 5 );\n",
    "\n",
    "---"
   ]
  },
  {
   "cell_type": "markdown",
   "metadata": {},
   "source": [
    "#### Variable <a name=\"Variable\"></a>\n",
    "A variable stores a piece of data and gives it a specific name. Common data types which are stored in variables in Python include numbers and Boolean values. \n",
    "\n",
    "---"
   ]
  },
  {
   "cell_type": "markdown",
   "metadata": {},
   "source": [
    "#### Unicode <a name=\"Unicode\"></a>\n",
    "An industry standard in computing for encoding (representing) text. Letters, numbers and symbols are assigned unique numeric values which facilitate universal application across different programs and platforms. A fun example of the utility of unicode is the emoji keyboard used on smartphones when sending messages.  The universal nature of unicode allows the emoji's to be accurately represented on most modern phones regardless of their differing operating systems (such as android, ios, blackberry). [Further information](http://unicode.org/standard/WhatIsUnicode.html)\n",
    "\n",
    "---"
   ]
  },
  {
   "cell_type": "markdown",
   "metadata": {
    "collapsed": true
   },
   "source": [
    "[CC BY-SA](https://creativecommons.org/licenses/by-sa/4.0/) From [The Art of Literary Text Analysis](ArtOfLiteraryTextAnalysis.ipynb) by [Stéfan Sinclair](http://stefansinclair.name) &amp; [Geoffrey Rockwell](http://geoffreyrockwell.com)<br /> \n",
    "Edited and revised by [Melissa Mony](http://melissamony.com)"
   ]
  }
 ],
 "metadata": {
  "kernelspec": {
   "display_name": "Python 3",
   "language": "python",
   "name": "python3"
  },
  "language_info": {
   "codemirror_mode": {
    "name": "ipython",
    "version": 3
   },
   "file_extension": ".py",
   "mimetype": "text/x-python",
   "name": "python",
   "nbconvert_exporter": "python",
   "pygments_lexer": "ipython3",
   "version": "3.6.3"
  }
 },
 "nbformat": 4,
 "nbformat_minor": 2
}
