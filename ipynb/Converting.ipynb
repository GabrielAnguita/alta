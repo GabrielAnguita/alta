{
 "cells": [
  {
   "cell_type": "markdown",
   "metadata": {},
   "source": [
    "# Converting with the Art of Literary Text Analysis\n",
    "\n",
    "Our objective here is to process a plain text file so that it is more suitable for analysis. In particular. we will take two _Godfather_ screenplays and remove the stage directions. Here are the steps:\n",
    "\n",
    "* fetch the two screenplays\n",
    "* extract the screenplay text from the files\n",
    "* remove the stage directions\n",
    "\n",
    "Since we're doing this for two files we will introduce the concept of reusable functions. We've used functions in Python, in this case we're defining our own functions for the first time and using them. The basic syntax is simple:\n",
    "\n",
    "    def function_name(arguments):\n",
    "        # processing\n",
    "        # return a value (usually)\n",
    "    \n",
    "We can start by defining our function to fetch a URL, building on the materials we saw with [Scraping](Scraping.ipynb)."
   ]
  },
  {
   "cell_type": "code",
   "execution_count": 64,
   "metadata": {},
   "outputs": [],
   "source": [
    "import urllib.request\n",
    "\n",
    "# this function simply fetches the contents of a URL\n",
    "def fetch(url):\n",
    "    response = urllib.request.urlopen(url) # open for reading\n",
    "    return response.read() # read and return"
   ]
  },
  {
   "cell_type": "code",
   "execution_count": 65,
   "metadata": {},
   "outputs": [
    {
     "data": {
      "text/plain": [
       "b'<html>\\r\\n<head><title>Godfather Script at IMSDb.</title>\\r\\n<meta name=\"description'"
      ]
     },
     "execution_count": 65,
     "metadata": {},
     "output_type": "execute_result"
    }
   ],
   "source": [
    "godfatherUrl = \"https://www.imsdb.com/scripts/Godfather.html\" # URL to use\n",
    "godfatherSource = fetch(godfatherUrl) # fetch URL\n",
    "godfatherSource[0:80] # preview"
   ]
  },
  {
   "cell_type": "code",
   "execution_count": 66,
   "metadata": {},
   "outputs": [],
   "source": [
    "from bs4 import BeautifulSoup\n",
    "\n",
    "# this function extracts the text from the Godfather screenplays\n",
    "def extract(source):\n",
    "    soup = BeautifulSoup(source) # parse the source document\n",
    "    return soup.find(\"pre\").find(\"pre\").text.strip() # return the plain text (no tags)"
   ]
  },
  {
   "cell_type": "code",
   "execution_count": 67,
   "metadata": {},
   "outputs": [
    {
     "data": {
      "text/plain": [
       "'THE GODFATHER\\n\\t_____________\\n\\n\\tScreenplay\\n\\n\\tby\\n\\n\\tMARIO PUZO\\n\\n\\tand\\n\\n\\tFRANCIS FORD'"
      ]
     },
     "execution_count": 67,
     "metadata": {},
     "output_type": "execute_result"
    }
   ],
   "source": [
    "godfatherText = extract(godfatherSource) # extract text from source\n",
    "godfatherText[0:80] # preview"
   ]
  },
  {
   "cell_type": "code",
   "execution_count": 68,
   "metadata": {},
   "outputs": [],
   "source": [
    "import re\n",
    "\n",
    "directions = r'^\\t?[^\\t]' # regular expression to avoid one tab only at start of line\n",
    "\n",
    "# this function cleans the text by skipping lines with one tab (and multiple new lines)\n",
    "def clean(text):\n",
    "    lines = re.sub(r'\\n\\n+', \"\\n\\n\", text).split(\"\\n\") # create list from new line\n",
    "    return [l for l in lines if not re.match(directions, l)] # create list from non-match lines"
   ]
  },
  {
   "cell_type": "code",
   "execution_count": 72,
   "metadata": {},
   "outputs": [
    {
     "data": {
      "text/plain": [
       "['',\n",
       " '',\n",
       " '',\n",
       " '',\n",
       " '',\n",
       " '',\n",
       " '\\t\\t\\t\\t\\t1 Gulf and Western Plaza',\n",
       " '',\n",
       " '',\n",
       " '',\n",
       " '\\t\\t\\t\\t  THE GODFATHER',\n",
       " '',\n",
       " '',\n",
       " '\\t\\t\\t\\tBONASERA',\n",
       " '\\t\\tAmerica has made my fortune.',\n",
       " '',\n",
       " '',\n",
       " '\\t\\t\\t\\tBONASERA',\n",
       " '\\t\\tI raised my daughter in the American',\n",
       " '\\t\\tfashion; I gave her freedom, but']"
      ]
     },
     "execution_count": 72,
     "metadata": {},
     "output_type": "execute_result"
    }
   ],
   "source": [
    "godfather = clean(godfatherText) # clean text\n",
    "godfather[0:20] # preview"
   ]
  },
  {
   "cell_type": "code",
   "execution_count": 74,
   "metadata": {},
   "outputs": [
    {
     "data": {
      "text/plain": [
       "['',\n",
       " '\\t\\t\\t\\t Part Two',\n",
       " '',\n",
       " '\\t\\t\\t\\tScreenplay by',\n",
       " '',\n",
       " '\\t\\t\\t\\tMario Puzo',\n",
       " '',\n",
       " '\\t\\t\\t\\t    and',\n",
       " '',\n",
       " '\\t\\t\\t Francis Ford Coppola',\n",
       " '',\n",
       " '',\n",
       " '',\n",
       " '',\n",
       " '',\n",
       " \"\\t\\t     Mario Puzo's THE GODFATHER\",\n",
       " '',\n",
       " '',\n",
       " '',\n",
       " '',\n",
       " '',\n",
       " '\\t\\t\\t\\t\\t\\t\\t\\tDISSOLVE TO:',\n",
       " '',\n",
       " '',\n",
       " '',\n",
       " '',\n",
       " '',\n",
       " '',\n",
       " '',\n",
       " '',\n",
       " '\\t\\t\\t\\tWOMAN',\n",
       " '\\t\\t\\t(Sicilian)',\n",
       " \"\\t\\tThey've killed young Paolo!  They've\",\n",
       " '\\t\\tkilled the boy Paolo!',\n",
       " '',\n",
       " '',\n",
       " '',\n",
       " '',\n",
       " '',\n",
       " '']"
      ]
     },
     "execution_count": 74,
     "metadata": {},
     "output_type": "execute_result"
    }
   ],
   "source": [
    "godfather2url = \"https://www.imsdb.com/scripts/Godfather-Part-II.html\"\n",
    "godfather2 = clean(extract(fetch(godfather2url))) # call nested functions\n",
    "godfather2[0:40] # preview"
   ]
  },
  {
   "cell_type": "markdown",
   "metadata": {},
   "source": [
    "And there we are, we now have code to process our _Godfather_ screenplays. It's not perfect, but it's a great start!\n",
    "\n",
    "---\n",
    "[CC BY-SA](https://creativecommons.org/licenses/by-sa/4.0/) From [The Art of Literary Text Analysis](ArtOfLiteraryTextAnalysis.ipynb) by [Stéfan Sinclair](http://stefansinclair.name) &amp; [Geoffrey Rockwell](http://geoffreyrockwell.com). <br >Created January 31, 2019 (Jupyter 5)."
   ]
  }
 ],
 "metadata": {
  "kernelspec": {
   "display_name": "Python 3",
   "language": "python",
   "name": "python3"
  },
  "language_info": {
   "codemirror_mode": {
    "name": "ipython",
    "version": 3
   },
   "file_extension": ".py",
   "mimetype": "text/x-python",
   "name": "python",
   "nbconvert_exporter": "python",
   "pygments_lexer": "ipython3",
   "version": "3.7.1"
  }
 },
 "nbformat": 4,
 "nbformat_minor": 2
}
